{
  "cells": [
    {
      "cell_type": "code",
      "execution_count": 1,
      "metadata": {
        "id": "JuHo7YBmJWI6"
      },
      "outputs": [],
      "source": [
        "import numpy as np\n",
        "import pandas as pd\n",
        "from sklearn.model_selection import train_test_split\n",
        "\n",
        "from tensorflow import keras\n",
        "from tensorflow.keras.models import Sequential\n",
        "from tensorflow.keras.layers import Conv1D, MaxPooling1D, UpSampling1D, Dropout, Flatten\n",
        "from tensorflow.keras.regularizers import l1\n",
        "from tensorflow.keras.utils import to_categorical\n",
        "\n",
        "%matplotlib inline   \n",
        "from matplotlib import pyplot as plt"
      ]
    },
    {
      "cell_type": "markdown",
      "metadata": {
        "id": "SCEBYcCHJWI9"
      },
      "source": [
        "AE"
      ]
    },
    {
      "cell_type": "code",
      "execution_count": 2,
      "metadata": {
        "id": "bPpgdcbdJWI-"
      },
      "outputs": [],
      "source": [
        "from zipfile import ZipFile\n",
        "\n",
        "with ZipFile('data_set.data.zip', 'r') as zipObj:\n",
        "   # Extract all the contents of zip file in current directory\n",
        "   zipObj.extractall()"
      ]
    },
    {
      "cell_type": "code",
      "execution_count": 27,
      "metadata": {
        "id": "NLKm1VJwJWI_",
        "colab": {
          "base_uri": "https://localhost:8080/",
          "height": 522
        },
        "outputId": "9e8b5066-0b2e-4d1c-e78f-7dc789d967eb"
      },
      "outputs": [
        {
          "output_type": "execute_result",
          "data": {
            "text/plain": [
              "        SYN83  PZE-101000060  PZE-101000088  PZE-101000108  PZE-101000111  \\\n",
              "11430       0              0              0              0              0   \n",
              "A3          0              0              0              0              0   \n",
              "A310        2              0              0              2              0   \n",
              "A347        2              2              0              2              2   \n",
              "A374        2              2              0              2              0   \n",
              "...       ...            ...            ...            ...            ...   \n",
              "W604S       0              0              0              2              2   \n",
              "W64A        0              0              0              0              0   \n",
              "W9          2              0              0              2              0   \n",
              "W95115      0              0              0              2              0   \n",
              "Wf9         0              0              0              0              0   \n",
              "\n",
              "        PZE-101000161  PZE-101000169  PZE-101000209  PZE-101000256  \\\n",
              "11430               0              0              0              0   \n",
              "A3                  0              0              0              0   \n",
              "A310                0              0              0              2   \n",
              "A347                0              0              0              2   \n",
              "A374                2              2              2              0   \n",
              "...               ...            ...            ...            ...   \n",
              "W604S               0              0              2              2   \n",
              "W64A                0              0              0              0   \n",
              "W9                  0              2              2              0   \n",
              "W95115              0              0              2              2   \n",
              "Wf9                 0              0              0              0   \n",
              "\n",
              "        PZE-101000301  ...  ZM013608-0315  PZE-101235343  \\\n",
              "11430               0  ...              0              0   \n",
              "A3                  0  ...              1              0   \n",
              "A310                2  ...              0              2   \n",
              "A347                0  ...              0              0   \n",
              "A374                2  ...              0              2   \n",
              "...               ...  ...            ...            ...   \n",
              "W604S               0  ...              2              0   \n",
              "W64A                0  ...              0              0   \n",
              "W9                  2  ...              0              0   \n",
              "W95115              0  ...              0              2   \n",
              "Wf9                 0  ...              2              0   \n",
              "\n",
              "        PUT-163a-28982443-1666  PZA00086.8  ZM013526-0477  SYNGENTA16702  \\\n",
              "11430                        0           0              0              0   \n",
              "A3                           2           0              0              2   \n",
              "A310                         2           2              0              2   \n",
              "A347                         0           0              0              2   \n",
              "A374                         2           2              0              2   \n",
              "...                        ...         ...            ...            ...   \n",
              "W604S                        0           2              0              2   \n",
              "W64A                         2           2              0              2   \n",
              "W9                           0           2              0              2   \n",
              "W95115                       2           2              0              2   \n",
              "Wf9                          2           0              0              2   \n",
              "\n",
              "        SYNGENTA1627  PUT-163a-89757491-4674  PUT-163a-18163661-1262  \\\n",
              "11430              0                       0                       0   \n",
              "A3                 2                       2                       0   \n",
              "A310               0                       0                       2   \n",
              "A347               0                       0                       2   \n",
              "A374               0                       0                       0   \n",
              "...              ...                     ...                     ...   \n",
              "W604S              0                       2                       2   \n",
              "W64A               2                       0                       0   \n",
              "W9                 0                       2                       0   \n",
              "W95115             2                       2                       2   \n",
              "Wf9                2                       2                       0   \n",
              "\n",
              "        PZA03171.3  \n",
              "11430            0  \n",
              "A3               0  \n",
              "A310             0  \n",
              "A347             0  \n",
              "A374             0  \n",
              "...            ...  \n",
              "W604S            0  \n",
              "W64A             0  \n",
              "W9               0  \n",
              "W95115           0  \n",
              "Wf9              0  \n",
              "\n",
              "[247 rows x 44729 columns]"
            ],
            "text/html": [
              "\n",
              "  <div id=\"df-9c94ef15-d28b-4cbb-be4f-5ed50419b661\">\n",
              "    <div class=\"colab-df-container\">\n",
              "      <div>\n",
              "<style scoped>\n",
              "    .dataframe tbody tr th:only-of-type {\n",
              "        vertical-align: middle;\n",
              "    }\n",
              "\n",
              "    .dataframe tbody tr th {\n",
              "        vertical-align: top;\n",
              "    }\n",
              "\n",
              "    .dataframe thead th {\n",
              "        text-align: right;\n",
              "    }\n",
              "</style>\n",
              "<table border=\"1\" class=\"dataframe\">\n",
              "  <thead>\n",
              "    <tr style=\"text-align: right;\">\n",
              "      <th></th>\n",
              "      <th>SYN83</th>\n",
              "      <th>PZE-101000060</th>\n",
              "      <th>PZE-101000088</th>\n",
              "      <th>PZE-101000108</th>\n",
              "      <th>PZE-101000111</th>\n",
              "      <th>PZE-101000161</th>\n",
              "      <th>PZE-101000169</th>\n",
              "      <th>PZE-101000209</th>\n",
              "      <th>PZE-101000256</th>\n",
              "      <th>PZE-101000301</th>\n",
              "      <th>...</th>\n",
              "      <th>ZM013608-0315</th>\n",
              "      <th>PZE-101235343</th>\n",
              "      <th>PUT-163a-28982443-1666</th>\n",
              "      <th>PZA00086.8</th>\n",
              "      <th>ZM013526-0477</th>\n",
              "      <th>SYNGENTA16702</th>\n",
              "      <th>SYNGENTA1627</th>\n",
              "      <th>PUT-163a-89757491-4674</th>\n",
              "      <th>PUT-163a-18163661-1262</th>\n",
              "      <th>PZA03171.3</th>\n",
              "    </tr>\n",
              "  </thead>\n",
              "  <tbody>\n",
              "    <tr>\n",
              "      <th>11430</th>\n",
              "      <td>0</td>\n",
              "      <td>0</td>\n",
              "      <td>0</td>\n",
              "      <td>0</td>\n",
              "      <td>0</td>\n",
              "      <td>0</td>\n",
              "      <td>0</td>\n",
              "      <td>0</td>\n",
              "      <td>0</td>\n",
              "      <td>0</td>\n",
              "      <td>...</td>\n",
              "      <td>0</td>\n",
              "      <td>0</td>\n",
              "      <td>0</td>\n",
              "      <td>0</td>\n",
              "      <td>0</td>\n",
              "      <td>0</td>\n",
              "      <td>0</td>\n",
              "      <td>0</td>\n",
              "      <td>0</td>\n",
              "      <td>0</td>\n",
              "    </tr>\n",
              "    <tr>\n",
              "      <th>A3</th>\n",
              "      <td>0</td>\n",
              "      <td>0</td>\n",
              "      <td>0</td>\n",
              "      <td>0</td>\n",
              "      <td>0</td>\n",
              "      <td>0</td>\n",
              "      <td>0</td>\n",
              "      <td>0</td>\n",
              "      <td>0</td>\n",
              "      <td>0</td>\n",
              "      <td>...</td>\n",
              "      <td>1</td>\n",
              "      <td>0</td>\n",
              "      <td>2</td>\n",
              "      <td>0</td>\n",
              "      <td>0</td>\n",
              "      <td>2</td>\n",
              "      <td>2</td>\n",
              "      <td>2</td>\n",
              "      <td>0</td>\n",
              "      <td>0</td>\n",
              "    </tr>\n",
              "    <tr>\n",
              "      <th>A310</th>\n",
              "      <td>2</td>\n",
              "      <td>0</td>\n",
              "      <td>0</td>\n",
              "      <td>2</td>\n",
              "      <td>0</td>\n",
              "      <td>0</td>\n",
              "      <td>0</td>\n",
              "      <td>0</td>\n",
              "      <td>2</td>\n",
              "      <td>2</td>\n",
              "      <td>...</td>\n",
              "      <td>0</td>\n",
              "      <td>2</td>\n",
              "      <td>2</td>\n",
              "      <td>2</td>\n",
              "      <td>0</td>\n",
              "      <td>2</td>\n",
              "      <td>0</td>\n",
              "      <td>0</td>\n",
              "      <td>2</td>\n",
              "      <td>0</td>\n",
              "    </tr>\n",
              "    <tr>\n",
              "      <th>A347</th>\n",
              "      <td>2</td>\n",
              "      <td>2</td>\n",
              "      <td>0</td>\n",
              "      <td>2</td>\n",
              "      <td>2</td>\n",
              "      <td>0</td>\n",
              "      <td>0</td>\n",
              "      <td>0</td>\n",
              "      <td>2</td>\n",
              "      <td>0</td>\n",
              "      <td>...</td>\n",
              "      <td>0</td>\n",
              "      <td>0</td>\n",
              "      <td>0</td>\n",
              "      <td>0</td>\n",
              "      <td>0</td>\n",
              "      <td>2</td>\n",
              "      <td>0</td>\n",
              "      <td>0</td>\n",
              "      <td>2</td>\n",
              "      <td>0</td>\n",
              "    </tr>\n",
              "    <tr>\n",
              "      <th>A374</th>\n",
              "      <td>2</td>\n",
              "      <td>2</td>\n",
              "      <td>0</td>\n",
              "      <td>2</td>\n",
              "      <td>0</td>\n",
              "      <td>2</td>\n",
              "      <td>2</td>\n",
              "      <td>2</td>\n",
              "      <td>0</td>\n",
              "      <td>2</td>\n",
              "      <td>...</td>\n",
              "      <td>0</td>\n",
              "      <td>2</td>\n",
              "      <td>2</td>\n",
              "      <td>2</td>\n",
              "      <td>0</td>\n",
              "      <td>2</td>\n",
              "      <td>0</td>\n",
              "      <td>0</td>\n",
              "      <td>0</td>\n",
              "      <td>0</td>\n",
              "    </tr>\n",
              "    <tr>\n",
              "      <th>...</th>\n",
              "      <td>...</td>\n",
              "      <td>...</td>\n",
              "      <td>...</td>\n",
              "      <td>...</td>\n",
              "      <td>...</td>\n",
              "      <td>...</td>\n",
              "      <td>...</td>\n",
              "      <td>...</td>\n",
              "      <td>...</td>\n",
              "      <td>...</td>\n",
              "      <td>...</td>\n",
              "      <td>...</td>\n",
              "      <td>...</td>\n",
              "      <td>...</td>\n",
              "      <td>...</td>\n",
              "      <td>...</td>\n",
              "      <td>...</td>\n",
              "      <td>...</td>\n",
              "      <td>...</td>\n",
              "      <td>...</td>\n",
              "      <td>...</td>\n",
              "    </tr>\n",
              "    <tr>\n",
              "      <th>W604S</th>\n",
              "      <td>0</td>\n",
              "      <td>0</td>\n",
              "      <td>0</td>\n",
              "      <td>2</td>\n",
              "      <td>2</td>\n",
              "      <td>0</td>\n",
              "      <td>0</td>\n",
              "      <td>2</td>\n",
              "      <td>2</td>\n",
              "      <td>0</td>\n",
              "      <td>...</td>\n",
              "      <td>2</td>\n",
              "      <td>0</td>\n",
              "      <td>0</td>\n",
              "      <td>2</td>\n",
              "      <td>0</td>\n",
              "      <td>2</td>\n",
              "      <td>0</td>\n",
              "      <td>2</td>\n",
              "      <td>2</td>\n",
              "      <td>0</td>\n",
              "    </tr>\n",
              "    <tr>\n",
              "      <th>W64A</th>\n",
              "      <td>0</td>\n",
              "      <td>0</td>\n",
              "      <td>0</td>\n",
              "      <td>0</td>\n",
              "      <td>0</td>\n",
              "      <td>0</td>\n",
              "      <td>0</td>\n",
              "      <td>0</td>\n",
              "      <td>0</td>\n",
              "      <td>0</td>\n",
              "      <td>...</td>\n",
              "      <td>0</td>\n",
              "      <td>0</td>\n",
              "      <td>2</td>\n",
              "      <td>2</td>\n",
              "      <td>0</td>\n",
              "      <td>2</td>\n",
              "      <td>2</td>\n",
              "      <td>0</td>\n",
              "      <td>0</td>\n",
              "      <td>0</td>\n",
              "    </tr>\n",
              "    <tr>\n",
              "      <th>W9</th>\n",
              "      <td>2</td>\n",
              "      <td>0</td>\n",
              "      <td>0</td>\n",
              "      <td>2</td>\n",
              "      <td>0</td>\n",
              "      <td>0</td>\n",
              "      <td>2</td>\n",
              "      <td>2</td>\n",
              "      <td>0</td>\n",
              "      <td>2</td>\n",
              "      <td>...</td>\n",
              "      <td>0</td>\n",
              "      <td>0</td>\n",
              "      <td>0</td>\n",
              "      <td>2</td>\n",
              "      <td>0</td>\n",
              "      <td>2</td>\n",
              "      <td>0</td>\n",
              "      <td>2</td>\n",
              "      <td>0</td>\n",
              "      <td>0</td>\n",
              "    </tr>\n",
              "    <tr>\n",
              "      <th>W95115</th>\n",
              "      <td>0</td>\n",
              "      <td>0</td>\n",
              "      <td>0</td>\n",
              "      <td>2</td>\n",
              "      <td>0</td>\n",
              "      <td>0</td>\n",
              "      <td>0</td>\n",
              "      <td>2</td>\n",
              "      <td>2</td>\n",
              "      <td>0</td>\n",
              "      <td>...</td>\n",
              "      <td>0</td>\n",
              "      <td>2</td>\n",
              "      <td>2</td>\n",
              "      <td>2</td>\n",
              "      <td>0</td>\n",
              "      <td>2</td>\n",
              "      <td>2</td>\n",
              "      <td>2</td>\n",
              "      <td>2</td>\n",
              "      <td>0</td>\n",
              "    </tr>\n",
              "    <tr>\n",
              "      <th>Wf9</th>\n",
              "      <td>0</td>\n",
              "      <td>0</td>\n",
              "      <td>0</td>\n",
              "      <td>0</td>\n",
              "      <td>0</td>\n",
              "      <td>0</td>\n",
              "      <td>0</td>\n",
              "      <td>0</td>\n",
              "      <td>0</td>\n",
              "      <td>0</td>\n",
              "      <td>...</td>\n",
              "      <td>2</td>\n",
              "      <td>0</td>\n",
              "      <td>2</td>\n",
              "      <td>0</td>\n",
              "      <td>0</td>\n",
              "      <td>2</td>\n",
              "      <td>2</td>\n",
              "      <td>2</td>\n",
              "      <td>0</td>\n",
              "      <td>0</td>\n",
              "    </tr>\n",
              "  </tbody>\n",
              "</table>\n",
              "<p>247 rows × 44729 columns</p>\n",
              "</div>\n",
              "      <button class=\"colab-df-convert\" onclick=\"convertToInteractive('df-9c94ef15-d28b-4cbb-be4f-5ed50419b661')\"\n",
              "              title=\"Convert this dataframe to an interactive table.\"\n",
              "              style=\"display:none;\">\n",
              "        \n",
              "  <svg xmlns=\"http://www.w3.org/2000/svg\" height=\"24px\"viewBox=\"0 0 24 24\"\n",
              "       width=\"24px\">\n",
              "    <path d=\"M0 0h24v24H0V0z\" fill=\"none\"/>\n",
              "    <path d=\"M18.56 5.44l.94 2.06.94-2.06 2.06-.94-2.06-.94-.94-2.06-.94 2.06-2.06.94zm-11 1L8.5 8.5l.94-2.06 2.06-.94-2.06-.94L8.5 2.5l-.94 2.06-2.06.94zm10 10l.94 2.06.94-2.06 2.06-.94-2.06-.94-.94-2.06-.94 2.06-2.06.94z\"/><path d=\"M17.41 7.96l-1.37-1.37c-.4-.4-.92-.59-1.43-.59-.52 0-1.04.2-1.43.59L10.3 9.45l-7.72 7.72c-.78.78-.78 2.05 0 2.83L4 21.41c.39.39.9.59 1.41.59.51 0 1.02-.2 1.41-.59l7.78-7.78 2.81-2.81c.8-.78.8-2.07 0-2.86zM5.41 20L4 18.59l7.72-7.72 1.47 1.35L5.41 20z\"/>\n",
              "  </svg>\n",
              "      </button>\n",
              "      \n",
              "  <style>\n",
              "    .colab-df-container {\n",
              "      display:flex;\n",
              "      flex-wrap:wrap;\n",
              "      gap: 12px;\n",
              "    }\n",
              "\n",
              "    .colab-df-convert {\n",
              "      background-color: #E8F0FE;\n",
              "      border: none;\n",
              "      border-radius: 50%;\n",
              "      cursor: pointer;\n",
              "      display: none;\n",
              "      fill: #1967D2;\n",
              "      height: 32px;\n",
              "      padding: 0 0 0 0;\n",
              "      width: 32px;\n",
              "    }\n",
              "\n",
              "    .colab-df-convert:hover {\n",
              "      background-color: #E2EBFA;\n",
              "      box-shadow: 0px 1px 2px rgba(60, 64, 67, 0.3), 0px 1px 3px 1px rgba(60, 64, 67, 0.15);\n",
              "      fill: #174EA6;\n",
              "    }\n",
              "\n",
              "    [theme=dark] .colab-df-convert {\n",
              "      background-color: #3B4455;\n",
              "      fill: #D2E3FC;\n",
              "    }\n",
              "\n",
              "    [theme=dark] .colab-df-convert:hover {\n",
              "      background-color: #434B5C;\n",
              "      box-shadow: 0px 1px 3px 1px rgba(0, 0, 0, 0.15);\n",
              "      filter: drop-shadow(0px 1px 2px rgba(0, 0, 0, 0.3));\n",
              "      fill: #FFFFFF;\n",
              "    }\n",
              "  </style>\n",
              "\n",
              "      <script>\n",
              "        const buttonEl =\n",
              "          document.querySelector('#df-9c94ef15-d28b-4cbb-be4f-5ed50419b661 button.colab-df-convert');\n",
              "        buttonEl.style.display =\n",
              "          google.colab.kernel.accessAllowed ? 'block' : 'none';\n",
              "\n",
              "        async function convertToInteractive(key) {\n",
              "          const element = document.querySelector('#df-9c94ef15-d28b-4cbb-be4f-5ed50419b661');\n",
              "          const dataTable =\n",
              "            await google.colab.kernel.invokeFunction('convertToInteractive',\n",
              "                                                     [key], {});\n",
              "          if (!dataTable) return;\n",
              "\n",
              "          const docLinkHtml = 'Like what you see? Visit the ' +\n",
              "            '<a target=\"_blank\" href=https://colab.research.google.com/notebooks/data_table.ipynb>data table notebook</a>'\n",
              "            + ' to learn more about interactive tables.';\n",
              "          element.innerHTML = '';\n",
              "          dataTable['output_type'] = 'display_data';\n",
              "          await google.colab.output.renderOutput(dataTable, element);\n",
              "          const docLink = document.createElement('div');\n",
              "          docLink.innerHTML = docLinkHtml;\n",
              "          element.appendChild(docLink);\n",
              "        }\n",
              "      </script>\n",
              "    </div>\n",
              "  </div>\n",
              "  "
            ]
          },
          "metadata": {},
          "execution_count": 27
        }
      ],
      "source": [
        "MaizeData_X = pd.read_csv('data_set.data/dataverse_files/Geno_50K_Drops_012_247I_44729L.tsv', sep='\\t')\n",
        "df_ori = MaizeData_X\n",
        "df_ori"
      ]
    },
    {
      "cell_type": "code",
      "execution_count": 28,
      "metadata": {
        "id": "0RN1ac3TJWJA"
      },
      "outputs": [],
      "source": [
        "df_ori = df_ori.drop(columns=['SYN83'])"
      ]
    },
    {
      "cell_type": "markdown",
      "metadata": {
        "id": "j1MlTF9vzLfi"
      },
      "source": [
        "Preprocessing"
      ]
    },
    {
      "cell_type": "code",
      "execution_count": 29,
      "metadata": {
        "colab": {
          "base_uri": "https://localhost:8080/"
        },
        "id": "FNkF9PbQJWJB",
        "outputId": "4add9d08-e691-4315-c6b6-7568a087866e"
      },
      "outputs": [
        {
          "output_type": "execute_result",
          "data": {
            "text/plain": [
              "(247, 44728, 3)"
            ]
          },
          "metadata": {},
          "execution_count": 29
        }
      ],
      "source": [
        "df_onehot = to_categorical(df_ori)\n",
        "df_onehot.shape"
      ]
    },
    {
      "cell_type": "code",
      "execution_count": 30,
      "metadata": {
        "colab": {
          "base_uri": "https://localhost:8080/"
        },
        "id": "7nonZR5KJWJB",
        "outputId": "ae76faf1-2bb7-416f-845c-38cdcd0aeb22"
      },
      "outputs": [
        {
          "output_type": "execute_result",
          "data": {
            "text/plain": [
              "((197, 44728, 3), (50, 44728, 3))"
            ]
          },
          "metadata": {},
          "execution_count": 30
        }
      ],
      "source": [
        "train_X, valid_X = train_test_split(df_onehot, test_size=0.2)\n",
        "\n",
        "train_X.shape, valid_X.shape"
      ]
    },
    {
      "cell_type": "markdown",
      "source": [
        "Testing a SCDA model on Maize genotype dataset with 10% missing genotypes."
      ],
      "metadata": {
        "id": "9Va5sFYMuaxi"
      }
    },
    {
      "cell_type": "code",
      "execution_count": 32,
      "metadata": {
        "id": "d8oK62J_JWJC"
      },
      "outputs": [],
      "source": [
        "# hyperparameters\n",
        "missing_perc = 0.1\n",
        "\n",
        "# training\n",
        "batch_size = 32\n",
        "#15\n",
        "lr = 1e-4\n",
        "#1e-3\n",
        "epochs = 50\n",
        "\n",
        "# conv1D\n",
        "feature_size = train_X.shape[1]\n",
        "inChannel = train_X.shape[2]\n",
        "kr = 1e-4\n",
        "drop_prec = 0.25"
      ]
    },
    {
      "cell_type": "markdown",
      "source": [
        "kernel combination [32, 64, 128, 128, 64, 3]"
      ],
      "metadata": {
        "id": "-9ihAbF9xayp"
      }
    },
    {
      "cell_type": "code",
      "execution_count": 33,
      "metadata": {
        "colab": {
          "base_uri": "https://localhost:8080/"
        },
        "id": "4sYbJWMBJWJD",
        "outputId": "4033ff8a-450b-4b17-dc93-3c7f99c673ee"
      },
      "outputs": [
        {
          "output_type": "stream",
          "name": "stdout",
          "text": [
            "Model: \"sequential_2\"\n",
            "_________________________________________________________________\n",
            " Layer (type)                Output Shape              Param #   \n",
            "=================================================================\n",
            " conv1d_12 (Conv1D)          (None, 44728, 32)         896       \n",
            "                                                                 \n",
            " max_pooling1d_4 (MaxPooling  (None, 22364, 32)        0         \n",
            " 1D)                                                             \n",
            "                                                                 \n",
            " dropout_8 (Dropout)         (None, 22364, 32)         0         \n",
            "                                                                 \n",
            " conv1d_13 (Conv1D)          (None, 22364, 64)         18496     \n",
            "                                                                 \n",
            " max_pooling1d_5 (MaxPooling  (None, 11182, 64)        0         \n",
            " 1D)                                                             \n",
            "                                                                 \n",
            " dropout_9 (Dropout)         (None, 11182, 64)         0         \n",
            "                                                                 \n",
            " conv1d_14 (Conv1D)          (None, 11182, 128)        73856     \n",
            "                                                                 \n",
            " conv1d_15 (Conv1D)          (None, 11182, 128)        147584    \n",
            "                                                                 \n",
            " up_sampling1d_4 (UpSampling  (None, 22364, 128)       0         \n",
            " 1D)                                                             \n",
            "                                                                 \n",
            " dropout_10 (Dropout)        (None, 22364, 128)        0         \n",
            "                                                                 \n",
            " conv1d_16 (Conv1D)          (None, 22364, 64)         73792     \n",
            "                                                                 \n",
            " up_sampling1d_5 (UpSampling  (None, 44728, 64)        0         \n",
            " 1D)                                                             \n",
            "                                                                 \n",
            " dropout_11 (Dropout)        (None, 44728, 64)         0         \n",
            "                                                                 \n",
            " conv1d_17 (Conv1D)          (None, 44728, 3)          1731      \n",
            "                                                                 \n",
            "=================================================================\n",
            "Total params: 316,355\n",
            "Trainable params: 316,355\n",
            "Non-trainable params: 0\n",
            "_________________________________________________________________\n"
          ]
        }
      ],
      "source": [
        "SCDA = Sequential()\n",
        "# encoder\n",
        "SCDA.add(Conv1D(32, 9, padding='same',activation='relu',kernel_regularizer=l1(kr),input_shape=(feature_size, inChannel)))\n",
        "# 16\n",
        "SCDA.add(MaxPooling1D(pool_size=2))\n",
        "SCDA.add(Dropout(drop_prec))\n",
        "          \n",
        "SCDA.add(Conv1D(64, 9, padding='same', activation='relu', kernel_regularizer=l1(kr))) \n",
        "# 32\n",
        "SCDA.add(MaxPooling1D(pool_size=2)) \n",
        "SCDA.add(Dropout(drop_prec))\n",
        "\n",
        "# bridge\n",
        "SCDA.add(Conv1D(128, 9, padding='same', activation='relu', kernel_regularizer=l1(kr)))\n",
        "# 64\n",
        "\n",
        "# decoder\n",
        "SCDA.add(Conv1D(128, 9, padding='same', activation='relu', kernel_regularizer=l1(kr))) \n",
        "# 64\n",
        "SCDA.add(UpSampling1D(2)) \n",
        "SCDA.add(Dropout(drop_prec))\n",
        "          \n",
        "SCDA.add(Conv1D(64, 9, padding='same', activation='relu', kernel_regularizer=l1(kr))) \n",
        "#16\n",
        "SCDA.add(UpSampling1D(2))\n",
        "SCDA.add(Dropout(drop_prec))\n",
        "\n",
        "SCDA.add(Conv1D(inChannel, 9, activation='softmax', padding='same')) \n",
        "\n",
        "\n",
        "# compile\n",
        "SCDA.compile(loss='categorical_crossentropy', \n",
        "                    optimizer='adam',\n",
        "                    metrics=['accuracy'])\n",
        "\n",
        "SCDA.summary()"
      ]
    },
    {
      "cell_type": "markdown",
      "source": [
        "take a look at the amount of trained parameters"
      ],
      "metadata": {
        "id": "Sqb-MWuUxVsh"
      }
    },
    {
      "cell_type": "code",
      "execution_count": 34,
      "metadata": {
        "id": "eDDc2MWzJWJE"
      },
      "outputs": [],
      "source": [
        "# Generates data for denoising autoencoder.\n",
        "class DataGenerator(keras.utils.Sequence):\n",
        "    def __init__(self, batch_size, x_dataset, missing_perc=0.1, shuffle=True):\n",
        "        self.batch_size = batch_size\n",
        "        self.x = x_dataset\n",
        "        self.missing_perc = missing_perc\n",
        "        self.shuffle = shuffle\n",
        "        # triggered once at the very beginning as well as at the end of each epoch.\n",
        "        self.on_epoch_end()\n",
        "\n",
        "    def __len__(self):\n",
        "        # Denote the number of batches per epoch\n",
        "        return int(np.floor(self.x.shape[0] / self.batch_size))\n",
        "\n",
        "    def __getitem__(self, index):\n",
        "        # Generates one batch of data\n",
        "        indexes = self.indexes[index * self.batch_size:(\n",
        "            index + 1) * self.batch_size]\n",
        "        self.x_missing = self.x[indexes].copy()\n",
        "\n",
        "        # Generates missing genotypes\n",
        "        # different missing loci for each individuals\n",
        "        for i in range(self.x_missing.shape[0]):\n",
        "            missing_size = int(self.missing_perc * self.x_missing.shape[1])\n",
        "            missing_index = np.random.randint(\n",
        "                self.x_missing.shape[1], size=missing_size)\n",
        "            # missing loci are encoded as [0, 0]\n",
        "            self.x_missing[i, missing_index, :] = [1, 0, 0]\n",
        "\n",
        "        return self.x_missing, self.x[indexes]\n",
        "\n",
        "    def on_epoch_end(self):\n",
        "        # Update indexes after each epoch\n",
        "        self.indexes = np.arange(self.x.shape[0])\n",
        "        if self.shuffle == True:\n",
        "            np.random.shuffle(self.indexes)"
      ]
    },
    {
      "cell_type": "code",
      "execution_count": 35,
      "metadata": {
        "id": "KHjaRkBeJWJF"
      },
      "outputs": [],
      "source": [
        "train_generator = DataGenerator(\n",
        "    batch_size=batch_size, x_dataset=train_X, missing_perc=missing_perc)\n",
        "valid_generator = DataGenerator(\n",
        "    batch_size=batch_size, x_dataset=valid_X, missing_perc=missing_perc)"
      ]
    },
    {
      "cell_type": "code",
      "execution_count": 36,
      "metadata": {
        "id": "fZY7fxnAJWJG"
      },
      "outputs": [],
      "source": [
        "# early stopping call back with val_loss monitor\n",
        "EarlyStopping = keras.callbacks.EarlyStopping(\n",
        "    monitor='val_loss',\n",
        "    min_delta=0,\n",
        "    patience=10,\n",
        "    verbose=0,\n",
        "    mode='auto',\n",
        "    baseline=None,\n",
        "    restore_best_weights=True)\n",
        "\n",
        "# model checkpoint call back with val_acc monitor\n",
        "ModelCheckpoint = keras.callbacks.ModelCheckpoint(\n",
        "    'models/SCDA_checkpoint.{epoch:02d}-{val_acc:.4f}.h5',\n",
        "    monitor='val_acc',\n",
        "    verbose=0,\n",
        "    save_best_only=True,\n",
        "    save_weights_only=False,\n",
        "    mode='auto',\n",
        "    save_freq=1)"
      ]
    },
    {
      "cell_type": "code",
      "execution_count": 37,
      "metadata": {
        "colab": {
          "base_uri": "https://localhost:8080/"
        },
        "id": "fw1KePRAJWJH",
        "outputId": "8666e2da-94a4-4b51-cfd9-7db129a01e22"
      },
      "outputs": [
        {
          "metadata": {
            "tags": null
          },
          "name": "stdout",
          "output_type": "stream",
          "text": [
            "Epoch 1/50\n"
          ]
        },
        {
          "metadata": {
            "tags": null
          },
          "name": "stderr",
          "output_type": "stream",
          "text": [
            "/usr/local/lib/python3.7/dist-packages/ipykernel_launcher.py:5: UserWarning: `Model.fit_generator` is deprecated and will be removed in a future version. Please use `Model.fit`, which supports generators.\n",
            "  \"\"\"\n"
          ]
        },
        {
          "output_type": "stream",
          "name": "stdout",
          "text": [
            "6/6 [==============================] - 1463s 33s/step - loss: 1.7057 - accuracy: 0.5616 - val_loss: 1.5552 - val_accuracy: 0.6654\n",
            "Epoch 2/50\n",
            "6/6 [==============================] - 185s 31s/step - loss: 1.4854 - accuracy: 0.6489 - val_loss: 1.4202 - val_accuracy: 0.6591\n",
            "Epoch 3/50\n",
            "6/6 [==============================] - 181s 30s/step - loss: 1.3618 - accuracy: 0.6634 - val_loss: 1.2763 - val_accuracy: 0.6619\n",
            "Epoch 4/50\n",
            "6/6 [==============================] - 181s 30s/step - loss: 1.2505 - accuracy: 0.6899 - val_loss: 1.1756 - val_accuracy: 0.7427\n",
            "Epoch 5/50\n",
            "6/6 [==============================] - 181s 30s/step - loss: 1.1580 - accuracy: 0.7230 - val_loss: 1.0953 - val_accuracy: 0.7484\n",
            "Epoch 6/50\n",
            "6/6 [==============================] - 181s 30s/step - loss: 1.0717 - accuracy: 0.7405 - val_loss: 1.0145 - val_accuracy: 0.7669\n",
            "Epoch 7/50\n",
            "6/6 [==============================] - 182s 31s/step - loss: 0.9980 - accuracy: 0.7625 - val_loss: 0.9447 - val_accuracy: 0.7824\n",
            "Epoch 8/50\n",
            "6/6 [==============================] - 183s 31s/step - loss: 0.9400 - accuracy: 0.7749 - val_loss: 0.8983 - val_accuracy: 0.7910\n",
            "Epoch 9/50\n",
            "6/6 [==============================] - 182s 30s/step - loss: 0.8900 - accuracy: 0.7853 - val_loss: 0.8468 - val_accuracy: 0.8009\n",
            "Epoch 10/50\n",
            "6/6 [==============================] - 182s 31s/step - loss: 0.8499 - accuracy: 0.7921 - val_loss: 0.8168 - val_accuracy: 0.8046\n",
            "Epoch 11/50\n",
            "6/6 [==============================] - 181s 30s/step - loss: 0.8148 - accuracy: 0.7971 - val_loss: 0.7788 - val_accuracy: 0.8120\n",
            "Epoch 12/50\n",
            "6/6 [==============================] - 181s 30s/step - loss: 0.7835 - accuracy: 0.8016 - val_loss: 0.7548 - val_accuracy: 0.8146\n",
            "Epoch 13/50\n",
            "6/6 [==============================] - 182s 31s/step - loss: 0.7580 - accuracy: 0.8040 - val_loss: 0.7243 - val_accuracy: 0.8196\n",
            "Epoch 14/50\n",
            "6/6 [==============================] - 182s 30s/step - loss: 0.7320 - accuracy: 0.8078 - val_loss: 0.7095 - val_accuracy: 0.8205\n",
            "Epoch 15/50\n",
            "6/6 [==============================] - 182s 31s/step - loss: 0.7134 - accuracy: 0.8094 - val_loss: 0.6887 - val_accuracy: 0.8221\n",
            "Epoch 16/50\n",
            "6/6 [==============================] - 181s 30s/step - loss: 0.6884 - accuracy: 0.8143 - val_loss: 0.6625 - val_accuracy: 0.8273\n",
            "Epoch 17/50\n",
            "6/6 [==============================] - 182s 30s/step - loss: 0.6699 - accuracy: 0.8170 - val_loss: 0.6481 - val_accuracy: 0.8303\n",
            "Epoch 18/50\n",
            "6/6 [==============================] - 181s 30s/step - loss: 0.6540 - accuracy: 0.8189 - val_loss: 0.6294 - val_accuracy: 0.8334\n",
            "Epoch 19/50\n",
            "6/6 [==============================] - 181s 30s/step - loss: 0.6386 - accuracy: 0.8211 - val_loss: 0.6118 - val_accuracy: 0.8358\n",
            "Epoch 20/50\n",
            "6/6 [==============================] - 181s 30s/step - loss: 0.6251 - accuracy: 0.8225 - val_loss: 0.6053 - val_accuracy: 0.8334\n",
            "Epoch 21/50\n",
            "6/6 [==============================] - 184s 31s/step - loss: 0.6117 - accuracy: 0.8241 - val_loss: 0.5815 - val_accuracy: 0.8410\n",
            "Epoch 22/50\n",
            "6/6 [==============================] - 181s 30s/step - loss: 0.5992 - accuracy: 0.8257 - val_loss: 0.5764 - val_accuracy: 0.8383\n",
            "Epoch 23/50\n",
            "6/6 [==============================] - 181s 30s/step - loss: 0.5882 - accuracy: 0.8268 - val_loss: 0.5697 - val_accuracy: 0.8376\n",
            "Epoch 24/50\n",
            "6/6 [==============================] - 182s 30s/step - loss: 0.5792 - accuracy: 0.8273 - val_loss: 0.5649 - val_accuracy: 0.8361\n",
            "Epoch 25/50\n",
            "6/6 [==============================] - 182s 31s/step - loss: 0.5685 - accuracy: 0.8289 - val_loss: 0.5427 - val_accuracy: 0.8436\n",
            "Epoch 26/50\n",
            "6/6 [==============================] - 182s 30s/step - loss: 0.5611 - accuracy: 0.8289 - val_loss: 0.5353 - val_accuracy: 0.8436\n",
            "Epoch 27/50\n",
            "6/6 [==============================] - 181s 30s/step - loss: 0.5515 - accuracy: 0.8304 - val_loss: 0.5229 - val_accuracy: 0.8470\n",
            "Epoch 28/50\n",
            "6/6 [==============================] - 181s 30s/step - loss: 0.5430 - accuracy: 0.8316 - val_loss: 0.5201 - val_accuracy: 0.8452\n",
            "Epoch 29/50\n",
            "6/6 [==============================] - 181s 30s/step - loss: 0.5350 - accuracy: 0.8327 - val_loss: 0.5092 - val_accuracy: 0.8471\n",
            "Epoch 30/50\n",
            "6/6 [==============================] - 181s 30s/step - loss: 0.5274 - accuracy: 0.8336 - val_loss: 0.5054 - val_accuracy: 0.8471\n",
            "Epoch 31/50\n",
            "6/6 [==============================] - 181s 30s/step - loss: 0.5226 - accuracy: 0.8333 - val_loss: 0.5027 - val_accuracy: 0.8438\n",
            "Epoch 32/50\n",
            "6/6 [==============================] - 181s 30s/step - loss: 0.5213 - accuracy: 0.8317 - val_loss: 0.4929 - val_accuracy: 0.8468\n",
            "Epoch 33/50\n",
            "6/6 [==============================] - 181s 30s/step - loss: 0.5127 - accuracy: 0.8344 - val_loss: 0.4922 - val_accuracy: 0.8482\n",
            "Epoch 34/50\n",
            "6/6 [==============================] - 181s 30s/step - loss: 0.5050 - accuracy: 0.8359 - val_loss: 0.4819 - val_accuracy: 0.8535\n",
            "Epoch 35/50\n",
            "6/6 [==============================] - 185s 31s/step - loss: 0.5000 - accuracy: 0.8363 - val_loss: 0.4820 - val_accuracy: 0.8498\n",
            "Epoch 36/50\n",
            "6/6 [==============================] - 181s 30s/step - loss: 0.4938 - accuracy: 0.8376 - val_loss: 0.4738 - val_accuracy: 0.8505\n",
            "Epoch 37/50\n",
            "6/6 [==============================] - 181s 30s/step - loss: 0.4888 - accuracy: 0.8381 - val_loss: 0.4605 - val_accuracy: 0.8554\n",
            "Epoch 38/50\n",
            "6/6 [==============================] - 181s 30s/step - loss: 0.4835 - accuracy: 0.8388 - val_loss: 0.4664 - val_accuracy: 0.8530\n",
            "Epoch 39/50\n",
            "6/6 [==============================] - 181s 30s/step - loss: 0.4788 - accuracy: 0.8394 - val_loss: 0.4610 - val_accuracy: 0.8514\n",
            "Epoch 40/50\n",
            "6/6 [==============================] - 181s 30s/step - loss: 0.4747 - accuracy: 0.8398 - val_loss: 0.4524 - val_accuracy: 0.8564\n",
            "Epoch 41/50\n",
            "6/6 [==============================] - 181s 30s/step - loss: 0.4708 - accuracy: 0.8403 - val_loss: 0.4438 - val_accuracy: 0.8601\n",
            "Epoch 42/50\n",
            "6/6 [==============================] - 181s 30s/step - loss: 0.4669 - accuracy: 0.8407 - val_loss: 0.4534 - val_accuracy: 0.8530\n",
            "Epoch 43/50\n",
            "6/6 [==============================] - 181s 30s/step - loss: 0.4630 - accuracy: 0.8411 - val_loss: 0.4498 - val_accuracy: 0.8497\n",
            "Epoch 44/50\n",
            "6/6 [==============================] - 183s 31s/step - loss: 0.4614 - accuracy: 0.8406 - val_loss: 0.4429 - val_accuracy: 0.8571\n",
            "Epoch 45/50\n",
            "6/6 [==============================] - 182s 30s/step - loss: 0.4578 - accuracy: 0.8413 - val_loss: 0.4300 - val_accuracy: 0.8558\n",
            "Epoch 46/50\n",
            "6/6 [==============================] - 182s 31s/step - loss: 0.4536 - accuracy: 0.8421 - val_loss: 0.4368 - val_accuracy: 0.8607\n",
            "Epoch 47/50\n",
            "6/6 [==============================] - 181s 30s/step - loss: 0.4521 - accuracy: 0.8417 - val_loss: 0.4240 - val_accuracy: 0.8637\n",
            "Epoch 48/50\n",
            "6/6 [==============================] - 181s 30s/step - loss: 0.4474 - accuracy: 0.8428 - val_loss: 0.4228 - val_accuracy: 0.8570\n",
            "Epoch 49/50\n",
            "6/6 [==============================] - 181s 30s/step - loss: 0.4442 - accuracy: 0.8433 - val_loss: 0.4145 - val_accuracy: 0.8640\n",
            "Epoch 50/50\n",
            "6/6 [==============================] - 181s 30s/step - loss: 0.4402 - accuracy: 0.8443 - val_loss: 0.4194 - val_accuracy: 0.8614\n"
          ]
        }
      ],
      "source": [
        "SCDA_train = SCDA.fit_generator(\n",
        "    generator=train_generator,\n",
        "    validation_data=valid_generator,\n",
        "    epochs=epochs,\n",
        "    verbose=1,\n",
        "    #callbacks=[EarlyStopping, ModelCheckpoint]\n",
        ")\n",
        "# may use SCDA.fit instead of SCDA.fit_generator which supports generator\n",
        "# took more than an hour"
      ]
    },
    {
      "cell_type": "code",
      "execution_count": 40,
      "metadata": {
        "id": "r7eqKVi2x0Bf",
        "colab": {
          "base_uri": "https://localhost:8080/",
          "height": 295
        },
        "outputId": "d9a1551c-ef13-48b2-de99-afcf16c74931"
      },
      "outputs": [
        {
          "output_type": "display_data",
          "data": {
            "text/plain": [
              "<Figure size 432x288 with 1 Axes>"
            ],
            "image/png": "[encoded data removed]"
          },
          "metadata": {
            "needs_background": "light"
          }
        }
      ],
      "source": [
        "# plot loss curve on validation data\n",
        "loss = SCDA_train.history['loss']\n",
        "val_loss = SCDA_train.history['val_loss']\n",
        "plt.figure()\n",
        "plt.plot(range(len(loss)), loss, 'bo', label='Training loss')\n",
        "plt.plot(range(len(val_loss)), val_loss, 'b', label='Validation loss')\n",
        "plt.title('Training and validation loss')\n",
        "plt.xlabel('epoch')\n",
        "plt.ylabel('accuracy')\n",
        "plt.legend()\n",
        "plt.show()"
      ]
    },
    {
      "cell_type": "code",
      "source": [
        "# plot accuracy curve on validation data\n",
        "acc = SCDA_train.history['accuracy']\n",
        "val_acc = SCDA_train.history['val_accuracy']\n",
        "plt.figure()\n",
        "plt.plot(range(len(acc)), acc, 'bo', label='Training acc')\n",
        "plt.plot(range(len(val_acc)), val_acc, 'b', label='Validation acc')\n",
        "plt.title('Training and validation acc')\n",
        "plt.xlabel('epoch')\n",
        "plt.ylabel('accuracy')\n",
        "plt.legend()\n",
        "plt.show()"
      ],
      "metadata": {
        "colab": {
          "base_uri": "https://localhost:8080/",
          "height": 295
        },
        "id": "wSClCHAcbDid",
        "outputId": "4a503b75-acf1-4b84-8738-a4b586e049d3"
      },
      "execution_count": 41,
      "outputs": [
        {
          "output_type": "display_data",
          "data": {
            "text/plain": [
              "<Figure size 432x288 with 1 Axes>"
            ],
            "image/png": "[encoded data removed]"
          },
          "metadata": {
            "needs_background": "light"
          }
        }
      ]
    },
    {
      "cell_type": "markdown",
      "source": [
        "From the above plot, you may derive some intuition that the model is not overfitting at the most epochs and to some point is sync. Of course you may try to improve the performance of the SCDA model by introducing some complexity into it, so that the loss can be reduced more significantly, by means of training it for more epochs, i.e. 1000, put a greater batch size, play with the kernels of convolutional layers and then decide on the result obtained. All in all, the accuracy of the model being generated at 50 epochs performs pretty well comparing to the other presented widely used standard imputation techniques. "
      ],
      "metadata": {
        "id": "Zyou2Hfpui5E"
      }
    },
    {
      "cell_type": "markdown",
      "metadata": {
        "id": "moRN7iExJWJH"
      },
      "source": [
        "KNN"
      ]
    },
    {
      "cell_type": "code",
      "execution_count": 6,
      "metadata": {
        "id": "h0pgu3Y8JWJI"
      },
      "outputs": [],
      "source": [
        "MaizeData_X = pd.read_csv('data_set.data/dataverse_files/Geno_50K_Drops_012_247I_44729L.tsv', sep='\\t')\n",
        "df_ori=MaizeData_X"
      ]
    },
    {
      "cell_type": "code",
      "source": [
        "display(MaizeData_X.isna().sum())\n",
        "display(MaizeData_X.isna().sum().sum() / (len(MaizeData_X) * len(MaizeData_X.columns)))"
      ],
      "metadata": {
        "colab": {
          "base_uri": "https://localhost:8080/",
          "height": 249
        },
        "id": "EnPTRlHegsNI",
        "outputId": "d43b19b4-d8cf-487e-8cc4-dba8d57514c0"
      },
      "execution_count": 25,
      "outputs": [
        {
          "output_type": "display_data",
          "data": {
            "text/plain": [
              "SYN83                     0\n",
              "PZE-101000060             0\n",
              "PZE-101000088             0\n",
              "PZE-101000108             0\n",
              "PZE-101000111             0\n",
              "                         ..\n",
              "SYNGENTA16702             0\n",
              "SYNGENTA1627              0\n",
              "PUT-163a-89757491-4674    0\n",
              "PUT-163a-18163661-1262    0\n",
              "PZA03171.3                0\n",
              "Length: 44729, dtype: int64"
            ]
          },
          "metadata": {}
        },
        {
          "output_type": "display_data",
          "data": {
            "text/plain": [
              "0.0"
            ]
          },
          "metadata": {}
        }
      ]
    },
    {
      "cell_type": "code",
      "execution_count": null,
      "metadata": {
        "id": "bjkud-hRJWJJ"
      },
      "outputs": [],
      "source": [
        "df_incomplete = df_ori.copy()\n",
        "# masking artificially\n",
        "mask = np.random.choice([1, 0], df_incomplete.shape, p=[.1, .9]).astype(bool)\n",
        "df_incomplete[mask] = np.nan"
      ]
    },
    {
      "cell_type": "code",
      "execution_count": null,
      "metadata": {
        "id": "FoOi4KD7JWJJ"
      },
      "outputs": [],
      "source": [
        "%%time\n",
        "from sklearn.impute import KNNImputer\n",
        "\n",
        "imputer = KNNImputer(n_neighbors = 10)\n",
        "imputed = imputer.fit_transform(df_incomplete)\n",
        "df_imputed = pd.DataFrame(imputed, columns = df_incomplete.columns,index = df_incomplete.index)"
      ]
    },
    {
      "cell_type": "code",
      "execution_count": null,
      "metadata": {
        "id": "d80TzYQwJWJJ"
      },
      "outputs": [],
      "source": [
        "df_imputed = df_imputed.astype(int)"
      ]
    },
    {
      "cell_type": "code",
      "execution_count": null,
      "metadata": {
        "id": "auvnzDWhJWJK"
      },
      "outputs": [],
      "source": [
        "incorrect = (df_imputed != df_ori)\n",
        "incorrect_cnts = incorrect.apply(pd.value_counts)\n",
        "incorrect_sum = incorrect_cnts.sum(axis=1)\n",
        "incorrect_sum[1]\n",
        "\n",
        "missing = df_incomplete.apply(pd.isnull)\n",
        "missing_cnts = missing.apply(pd.value_counts)\n",
        "missing_sum = missing_cnts.sum(axis=1)"
      ]
    },
    {
      "cell_type": "code",
      "execution_count": null,
      "metadata": {
        "colab": {
          "base_uri": "https://localhost:8080/"
        },
        "id": "0f6LfmeDJWJK",
        "outputId": "deff1da6-0e28-43de-fdd6-49a7e916b249"
      },
      "outputs": [
        {
          "name": "stdout",
          "output_type": "stream",
          "text": [
            "0.6129246270088664\n"
          ]
        }
      ],
      "source": [
        "accuracy = 1 - (incorrect_sum[1] / missing_sum[1])\n",
        "print(accuracy)"
      ]
    },
    {
      "cell_type": "markdown",
      "metadata": {
        "id": "3iOsr1JkgD9X"
      },
      "source": [
        "SVD"
      ]
    },
    {
      "cell_type": "code",
      "execution_count": 7,
      "metadata": {
        "colab": {
          "base_uri": "https://localhost:8080/"
        },
        "id": "MbIjMsjMgdTw",
        "outputId": "dde0a10d-1b9c-4eb2-d468-335537a74fe0"
      },
      "outputs": [
        {
          "output_type": "stream",
          "name": "stdout",
          "text": [
            "Collecting fancyimpute\n",
            "  Downloading fancyimpute-0.7.0.tar.gz (25 kB)\n",
            "Collecting knnimpute>=0.1.0\n",
            "  Downloading knnimpute-0.1.0.tar.gz (8.3 kB)\n",
            "Requirement already satisfied: scikit-learn>=0.24.2 in /usr/local/lib/python3.7/dist-packages (from fancyimpute) (1.0.2)\n",
            "Requirement already satisfied: cvxpy in /usr/local/lib/python3.7/dist-packages (from fancyimpute) (1.0.31)\n",
            "Requirement already satisfied: cvxopt in /usr/local/lib/python3.7/dist-packages (from fancyimpute) (1.2.7)\n",
            "Requirement already satisfied: pytest in /usr/local/lib/python3.7/dist-packages (from fancyimpute) (3.6.4)\n",
            "Collecting nose\n",
            "  Downloading nose-1.3.7-py3-none-any.whl (154 kB)\n",
            "\u001b[K     |████████████████████████████████| 154 kB 13.7 MB/s \n",
            "\u001b[?25hRequirement already satisfied: six in /usr/local/lib/python3.7/dist-packages (from knnimpute>=0.1.0->fancyimpute) (1.15.0)\n",
            "Requirement already satisfied: numpy>=1.10 in /usr/local/lib/python3.7/dist-packages (from knnimpute>=0.1.0->fancyimpute) (1.21.6)\n",
            "Requirement already satisfied: scipy>=1.1.0 in /usr/local/lib/python3.7/dist-packages (from scikit-learn>=0.24.2->fancyimpute) (1.4.1)\n",
            "Requirement already satisfied: threadpoolctl>=2.0.0 in /usr/local/lib/python3.7/dist-packages (from scikit-learn>=0.24.2->fancyimpute) (3.1.0)\n",
            "Requirement already satisfied: joblib>=0.11 in /usr/local/lib/python3.7/dist-packages (from scikit-learn>=0.24.2->fancyimpute) (1.1.0)\n",
            "Requirement already satisfied: scs>=1.1.3 in /usr/local/lib/python3.7/dist-packages (from cvxpy->fancyimpute) (3.2.0)\n",
            "Requirement already satisfied: multiprocess in /usr/local/lib/python3.7/dist-packages (from cvxpy->fancyimpute) (0.70.12.2)\n",
            "Requirement already satisfied: osqp>=0.4.1 in /usr/local/lib/python3.7/dist-packages (from cvxpy->fancyimpute) (0.6.2.post0)\n",
            "Requirement already satisfied: ecos>=2 in /usr/local/lib/python3.7/dist-packages (from cvxpy->fancyimpute) (2.0.10)\n",
            "Requirement already satisfied: qdldl in /usr/local/lib/python3.7/dist-packages (from osqp>=0.4.1->cvxpy->fancyimpute) (0.1.5.post2)\n",
            "Requirement already satisfied: dill>=0.3.4 in /usr/local/lib/python3.7/dist-packages (from multiprocess->cvxpy->fancyimpute) (0.3.4)\n",
            "Requirement already satisfied: atomicwrites>=1.0 in /usr/local/lib/python3.7/dist-packages (from pytest->fancyimpute) (1.4.0)\n",
            "Requirement already satisfied: pluggy<0.8,>=0.5 in /usr/local/lib/python3.7/dist-packages (from pytest->fancyimpute) (0.7.1)\n",
            "Requirement already satisfied: more-itertools>=4.0.0 in /usr/local/lib/python3.7/dist-packages (from pytest->fancyimpute) (8.13.0)\n",
            "Requirement already satisfied: attrs>=17.4.0 in /usr/local/lib/python3.7/dist-packages (from pytest->fancyimpute) (21.4.0)\n",
            "Requirement already satisfied: py>=1.5.0 in /usr/local/lib/python3.7/dist-packages (from pytest->fancyimpute) (1.11.0)\n",
            "Requirement already satisfied: setuptools in /usr/local/lib/python3.7/dist-packages (from pytest->fancyimpute) (57.4.0)\n",
            "Building wheels for collected packages: fancyimpute, knnimpute\n",
            "  Building wheel for fancyimpute (setup.py) ... \u001b[?25l\u001b[?25hdone\n",
            "  Created wheel for fancyimpute: filename=fancyimpute-0.7.0-py3-none-any.whl size=29899 sha256=3c6501713dd4ad9110ed5af109f675ac30533145f56940a36ad756d150a54385\n",
            "  Stored in directory: /root/.cache/pip/wheels/e3/04/06/a1a7d89ef4e631ce6268ea2d8cde04f7290651c1ff1025ce68\n",
            "  Building wheel for knnimpute (setup.py) ... \u001b[?25l\u001b[?25hdone\n",
            "  Created wheel for knnimpute: filename=knnimpute-0.1.0-py3-none-any.whl size=11353 sha256=1f511d3946a64156417e68f4381f2b5ab045c37228e61810036d92451f4ad8da\n",
            "  Stored in directory: /root/.cache/pip/wheels/72/21/a8/a045cacd9838abd5643f6bfa852c0796a99d6b1494760494e0\n",
            "Successfully built fancyimpute knnimpute\n",
            "Installing collected packages: nose, knnimpute, fancyimpute\n",
            "Successfully installed fancyimpute-0.7.0 knnimpute-0.1.0 nose-1.3.7\n"
          ]
        }
      ],
      "source": [
        "!pip install fancyimpute"
      ]
    },
    {
      "cell_type": "code",
      "execution_count": 8,
      "metadata": {
        "id": "Jo9tDr_7gSQv"
      },
      "outputs": [],
      "source": [
        "from fancyimpute import BiScaler, KNN, NuclearNormMinimization, SoftImpute\n",
        "from fancyimpute import IterativeSVD"
      ]
    },
    {
      "cell_type": "code",
      "execution_count": 11,
      "metadata": {
        "id": "xk5Tec50glZq"
      },
      "outputs": [],
      "source": [
        "df_incomplete = df_ori.copy()\n",
        "mask = np.random.choice([1, 0], df_incomplete.shape, p=[.1, .9]).astype(bool)\n",
        "df_incomplete[mask] = np.nan"
      ]
    },
    {
      "cell_type": "code",
      "execution_count": 17,
      "metadata": {
        "id": "9wwiV9u7gJJk"
      },
      "outputs": [],
      "source": [
        "#n_row = df_incomplete.shape[1] # dimensionality of data space\n",
        "#non_missing_row_ind= np.where(np.isfinite(np.sum(df_incomplete,axis=1)))\n",
        "#non_missing_row_ind"
      ]
    },
    {
      "cell_type": "code",
      "execution_count": 12,
      "metadata": {
        "colab": {
          "base_uri": "https://localhost:8080/"
        },
        "id": "HXz1TIrrkGmj",
        "outputId": "4e04c106-f997-44c1-920d-a2727596a26b"
      },
      "outputs": [
        {
          "output_type": "execute_result",
          "data": {
            "text/plain": [
              "(array([  0,   0,   0, ..., 246, 246, 246]),\n",
              " array([    6,    16,    24, ..., 44720, 44722, 44728]))"
            ]
          },
          "metadata": {},
          "execution_count": 12
        }
      ],
      "source": [
        "na_ind = np.where(np.isnan(df_incomplete))\n",
        "na_ind"
      ]
    },
    {
      "cell_type": "code",
      "execution_count": 13,
      "metadata": {
        "colab": {
          "base_uri": "https://localhost:8080/"
        },
        "id": "0zG5ew0DkMXx",
        "outputId": "8a5caa04-3f15-4035-ea84-a1293e5f73a5"
      },
      "outputs": [
        {
          "output_type": "execute_result",
          "data": {
            "text/plain": [
              "1104855"
            ]
          },
          "metadata": {},
          "execution_count": 13
        }
      ],
      "source": [
        "na_count= len(na_ind[0])\n",
        "na_count"
      ]
    },
    {
      "cell_type": "code",
      "execution_count": 14,
      "metadata": {
        "colab": {
          "base_uri": "https://localhost:8080/"
        },
        "id": "pMAeJxdggRDE",
        "outputId": "adbf89f7-f11c-41fe-8a6e-82e8bee4b276"
      },
      "outputs": [
        {
          "output_type": "stream",
          "name": "stdout",
          "text": [
            "[IterativeSVD] Iter 1: observed MAE=0.686614\n",
            "[IterativeSVD] Iter 2: observed MAE=0.653070\n",
            "[IterativeSVD] Iter 3: observed MAE=0.613117\n",
            "[IterativeSVD] Iter 4: observed MAE=0.561531\n",
            "[IterativeSVD] Iter 5: observed MAE=0.514555\n",
            "[IterativeSVD] Iter 6: observed MAE=0.458353\n",
            "[IterativeSVD] Iter 7: observed MAE=0.381017\n",
            "[IterativeSVD] Iter 8: observed MAE=0.240036\n"
          ]
        }
      ],
      "source": [
        "data_impute_SVD = IterativeSVD(rank=247, convergence_threshold=0.0005, max_iters=8).fit_transform(df_incomplete)\n",
        "ReconstructionErrorSVD = sum(((data_impute_SVD[na_ind] - MaizeData_X[na_ind])**2)**0.5)/na_count\n",
        "#print('Reconstruction error (VAE):')\n",
        "#print(ReconstructionErrorSVD) "
      ]
    },
    {
      "cell_type": "code",
      "execution_count": null,
      "metadata": {
        "colab": {
          "base_uri": "https://localhost:8080/"
        },
        "id": "unymas8QsmWZ",
        "outputId": "3cee1e85-2656-43be-e85c-7cac2e972506"
      },
      "outputs": [
        {
          "name": "stdout",
          "output_type": "stream",
          "text": [
            "Requirement already satisfied: impyute in /usr/local/lib/python3.7/dist-packages (0.0.8)\n",
            "Requirement already satisfied: scikit-learn in /usr/local/lib/python3.7/dist-packages (from impyute) (1.0.2)\n",
            "Requirement already satisfied: numpy in /usr/local/lib/python3.7/dist-packages (from impyute) (1.21.6)\n",
            "Requirement already satisfied: scipy in /usr/local/lib/python3.7/dist-packages (from impyute) (1.4.1)\n",
            "Requirement already satisfied: joblib>=0.11 in /usr/local/lib/python3.7/dist-packages (from scikit-learn->impyute) (1.1.0)\n",
            "Requirement already satisfied: threadpoolctl>=2.0.0 in /usr/local/lib/python3.7/dist-packages (from scikit-learn->impyute) (3.1.0)\n"
          ]
        }
      ],
      "source": [
        "!pip install impyute"
      ]
    },
    {
      "cell_type": "markdown",
      "metadata": {
        "id": "dWEvnK6vS_LQ"
      },
      "source": [
        "Mice"
      ]
    },
    {
      "cell_type": "code",
      "execution_count": 5,
      "metadata": {
        "id": "KK2tD5r2aLr9",
        "colab": {
          "base_uri": "https://localhost:8080/",
          "height": 522
        },
        "outputId": "075295f9-4306-461e-e63f-e38a763ff8cc"
      },
      "outputs": [
        {
          "output_type": "execute_result",
          "data": {
            "text/plain": [
              "        SYN83  PZE-101000060  PZE-101000088  PZE-101000108  PZE-101000111  \\\n",
              "11430       0              0              0              0              0   \n",
              "A3          0              0              0              0              0   \n",
              "A310        2              0              0              2              0   \n",
              "A347        2              2              0              2              2   \n",
              "A374        2              2              0              2              0   \n",
              "...       ...            ...            ...            ...            ...   \n",
              "W604S       0              0              0              2              2   \n",
              "W64A        0              0              0              0              0   \n",
              "W9          2              0              0              2              0   \n",
              "W95115      0              0              0              2              0   \n",
              "Wf9         0              0              0              0              0   \n",
              "\n",
              "        PZE-101000161  PZE-101000169  PZE-101000209  PZE-101000256  \\\n",
              "11430               0              0              0              0   \n",
              "A3                  0              0              0              0   \n",
              "A310                0              0              0              2   \n",
              "A347                0              0              0              2   \n",
              "A374                2              2              2              0   \n",
              "...               ...            ...            ...            ...   \n",
              "W604S               0              0              2              2   \n",
              "W64A                0              0              0              0   \n",
              "W9                  0              2              2              0   \n",
              "W95115              0              0              2              2   \n",
              "Wf9                 0              0              0              0   \n",
              "\n",
              "        PZE-101000301  ...  ZM013608-0315  PZE-101235343  \\\n",
              "11430               0  ...              0              0   \n",
              "A3                  0  ...              1              0   \n",
              "A310                2  ...              0              2   \n",
              "A347                0  ...              0              0   \n",
              "A374                2  ...              0              2   \n",
              "...               ...  ...            ...            ...   \n",
              "W604S               0  ...              2              0   \n",
              "W64A                0  ...              0              0   \n",
              "W9                  2  ...              0              0   \n",
              "W95115              0  ...              0              2   \n",
              "Wf9                 0  ...              2              0   \n",
              "\n",
              "        PUT-163a-28982443-1666  PZA00086.8  ZM013526-0477  SYNGENTA16702  \\\n",
              "11430                        0           0              0              0   \n",
              "A3                           2           0              0              2   \n",
              "A310                         2           2              0              2   \n",
              "A347                         0           0              0              2   \n",
              "A374                         2           2              0              2   \n",
              "...                        ...         ...            ...            ...   \n",
              "W604S                        0           2              0              2   \n",
              "W64A                         2           2              0              2   \n",
              "W9                           0           2              0              2   \n",
              "W95115                       2           2              0              2   \n",
              "Wf9                          2           0              0              2   \n",
              "\n",
              "        SYNGENTA1627  PUT-163a-89757491-4674  PUT-163a-18163661-1262  \\\n",
              "11430              0                       0                       0   \n",
              "A3                 2                       2                       0   \n",
              "A310               0                       0                       2   \n",
              "A347               0                       0                       2   \n",
              "A374               0                       0                       0   \n",
              "...              ...                     ...                     ...   \n",
              "W604S              0                       2                       2   \n",
              "W64A               2                       0                       0   \n",
              "W9                 0                       2                       0   \n",
              "W95115             2                       2                       2   \n",
              "Wf9                2                       2                       0   \n",
              "\n",
              "        PZA03171.3  \n",
              "11430            0  \n",
              "A3               0  \n",
              "A310             0  \n",
              "A347             0  \n",
              "A374             0  \n",
              "...            ...  \n",
              "W604S            0  \n",
              "W64A             0  \n",
              "W9               0  \n",
              "W95115           0  \n",
              "Wf9              0  \n",
              "\n",
              "[247 rows x 44729 columns]"
            ],
            "text/html": [
              "\n",
              "  <div id=\"df-24a381af-b78f-4f18-ab12-ce0df331afa0\">\n",
              "    <div class=\"colab-df-container\">\n",
              "      <div>\n",
              "<style scoped>\n",
              "    .dataframe tbody tr th:only-of-type {\n",
              "        vertical-align: middle;\n",
              "    }\n",
              "\n",
              "    .dataframe tbody tr th {\n",
              "        vertical-align: top;\n",
              "    }\n",
              "\n",
              "    .dataframe thead th {\n",
              "        text-align: right;\n",
              "    }\n",
              "</style>\n",
              "<table border=\"1\" class=\"dataframe\">\n",
              "  <thead>\n",
              "    <tr style=\"text-align: right;\">\n",
              "      <th></th>\n",
              "      <th>SYN83</th>\n",
              "      <th>PZE-101000060</th>\n",
              "      <th>PZE-101000088</th>\n",
              "      <th>PZE-101000108</th>\n",
              "      <th>PZE-101000111</th>\n",
              "      <th>PZE-101000161</th>\n",
              "      <th>PZE-101000169</th>\n",
              "      <th>PZE-101000209</th>\n",
              "      <th>PZE-101000256</th>\n",
              "      <th>PZE-101000301</th>\n",
              "      <th>...</th>\n",
              "      <th>ZM013608-0315</th>\n",
              "      <th>PZE-101235343</th>\n",
              "      <th>PUT-163a-28982443-1666</th>\n",
              "      <th>PZA00086.8</th>\n",
              "      <th>ZM013526-0477</th>\n",
              "      <th>SYNGENTA16702</th>\n",
              "      <th>SYNGENTA1627</th>\n",
              "      <th>PUT-163a-89757491-4674</th>\n",
              "      <th>PUT-163a-18163661-1262</th>\n",
              "      <th>PZA03171.3</th>\n",
              "    </tr>\n",
              "  </thead>\n",
              "  <tbody>\n",
              "    <tr>\n",
              "      <th>11430</th>\n",
              "      <td>0</td>\n",
              "      <td>0</td>\n",
              "      <td>0</td>\n",
              "      <td>0</td>\n",
              "      <td>0</td>\n",
              "      <td>0</td>\n",
              "      <td>0</td>\n",
              "      <td>0</td>\n",
              "      <td>0</td>\n",
              "      <td>0</td>\n",
              "      <td>...</td>\n",
              "      <td>0</td>\n",
              "      <td>0</td>\n",
              "      <td>0</td>\n",
              "      <td>0</td>\n",
              "      <td>0</td>\n",
              "      <td>0</td>\n",
              "      <td>0</td>\n",
              "      <td>0</td>\n",
              "      <td>0</td>\n",
              "      <td>0</td>\n",
              "    </tr>\n",
              "    <tr>\n",
              "      <th>A3</th>\n",
              "      <td>0</td>\n",
              "      <td>0</td>\n",
              "      <td>0</td>\n",
              "      <td>0</td>\n",
              "      <td>0</td>\n",
              "      <td>0</td>\n",
              "      <td>0</td>\n",
              "      <td>0</td>\n",
              "      <td>0</td>\n",
              "      <td>0</td>\n",
              "      <td>...</td>\n",
              "      <td>1</td>\n",
              "      <td>0</td>\n",
              "      <td>2</td>\n",
              "      <td>0</td>\n",
              "      <td>0</td>\n",
              "      <td>2</td>\n",
              "      <td>2</td>\n",
              "      <td>2</td>\n",
              "      <td>0</td>\n",
              "      <td>0</td>\n",
              "    </tr>\n",
              "    <tr>\n",
              "      <th>A310</th>\n",
              "      <td>2</td>\n",
              "      <td>0</td>\n",
              "      <td>0</td>\n",
              "      <td>2</td>\n",
              "      <td>0</td>\n",
              "      <td>0</td>\n",
              "      <td>0</td>\n",
              "      <td>0</td>\n",
              "      <td>2</td>\n",
              "      <td>2</td>\n",
              "      <td>...</td>\n",
              "      <td>0</td>\n",
              "      <td>2</td>\n",
              "      <td>2</td>\n",
              "      <td>2</td>\n",
              "      <td>0</td>\n",
              "      <td>2</td>\n",
              "      <td>0</td>\n",
              "      <td>0</td>\n",
              "      <td>2</td>\n",
              "      <td>0</td>\n",
              "    </tr>\n",
              "    <tr>\n",
              "      <th>A347</th>\n",
              "      <td>2</td>\n",
              "      <td>2</td>\n",
              "      <td>0</td>\n",
              "      <td>2</td>\n",
              "      <td>2</td>\n",
              "      <td>0</td>\n",
              "      <td>0</td>\n",
              "      <td>0</td>\n",
              "      <td>2</td>\n",
              "      <td>0</td>\n",
              "      <td>...</td>\n",
              "      <td>0</td>\n",
              "      <td>0</td>\n",
              "      <td>0</td>\n",
              "      <td>0</td>\n",
              "      <td>0</td>\n",
              "      <td>2</td>\n",
              "      <td>0</td>\n",
              "      <td>0</td>\n",
              "      <td>2</td>\n",
              "      <td>0</td>\n",
              "    </tr>\n",
              "    <tr>\n",
              "      <th>A374</th>\n",
              "      <td>2</td>\n",
              "      <td>2</td>\n",
              "      <td>0</td>\n",
              "      <td>2</td>\n",
              "      <td>0</td>\n",
              "      <td>2</td>\n",
              "      <td>2</td>\n",
              "      <td>2</td>\n",
              "      <td>0</td>\n",
              "      <td>2</td>\n",
              "      <td>...</td>\n",
              "      <td>0</td>\n",
              "      <td>2</td>\n",
              "      <td>2</td>\n",
              "      <td>2</td>\n",
              "      <td>0</td>\n",
              "      <td>2</td>\n",
              "      <td>0</td>\n",
              "      <td>0</td>\n",
              "      <td>0</td>\n",
              "      <td>0</td>\n",
              "    </tr>\n",
              "    <tr>\n",
              "      <th>...</th>\n",
              "      <td>...</td>\n",
              "      <td>...</td>\n",
              "      <td>...</td>\n",
              "      <td>...</td>\n",
              "      <td>...</td>\n",
              "      <td>...</td>\n",
              "      <td>...</td>\n",
              "      <td>...</td>\n",
              "      <td>...</td>\n",
              "      <td>...</td>\n",
              "      <td>...</td>\n",
              "      <td>...</td>\n",
              "      <td>...</td>\n",
              "      <td>...</td>\n",
              "      <td>...</td>\n",
              "      <td>...</td>\n",
              "      <td>...</td>\n",
              "      <td>...</td>\n",
              "      <td>...</td>\n",
              "      <td>...</td>\n",
              "      <td>...</td>\n",
              "    </tr>\n",
              "    <tr>\n",
              "      <th>W604S</th>\n",
              "      <td>0</td>\n",
              "      <td>0</td>\n",
              "      <td>0</td>\n",
              "      <td>2</td>\n",
              "      <td>2</td>\n",
              "      <td>0</td>\n",
              "      <td>0</td>\n",
              "      <td>2</td>\n",
              "      <td>2</td>\n",
              "      <td>0</td>\n",
              "      <td>...</td>\n",
              "      <td>2</td>\n",
              "      <td>0</td>\n",
              "      <td>0</td>\n",
              "      <td>2</td>\n",
              "      <td>0</td>\n",
              "      <td>2</td>\n",
              "      <td>0</td>\n",
              "      <td>2</td>\n",
              "      <td>2</td>\n",
              "      <td>0</td>\n",
              "    </tr>\n",
              "    <tr>\n",
              "      <th>W64A</th>\n",
              "      <td>0</td>\n",
              "      <td>0</td>\n",
              "      <td>0</td>\n",
              "      <td>0</td>\n",
              "      <td>0</td>\n",
              "      <td>0</td>\n",
              "      <td>0</td>\n",
              "      <td>0</td>\n",
              "      <td>0</td>\n",
              "      <td>0</td>\n",
              "      <td>...</td>\n",
              "      <td>0</td>\n",
              "      <td>0</td>\n",
              "      <td>2</td>\n",
              "      <td>2</td>\n",
              "      <td>0</td>\n",
              "      <td>2</td>\n",
              "      <td>2</td>\n",
              "      <td>0</td>\n",
              "      <td>0</td>\n",
              "      <td>0</td>\n",
              "    </tr>\n",
              "    <tr>\n",
              "      <th>W9</th>\n",
              "      <td>2</td>\n",
              "      <td>0</td>\n",
              "      <td>0</td>\n",
              "      <td>2</td>\n",
              "      <td>0</td>\n",
              "      <td>0</td>\n",
              "      <td>2</td>\n",
              "      <td>2</td>\n",
              "      <td>0</td>\n",
              "      <td>2</td>\n",
              "      <td>...</td>\n",
              "      <td>0</td>\n",
              "      <td>0</td>\n",
              "      <td>0</td>\n",
              "      <td>2</td>\n",
              "      <td>0</td>\n",
              "      <td>2</td>\n",
              "      <td>0</td>\n",
              "      <td>2</td>\n",
              "      <td>0</td>\n",
              "      <td>0</td>\n",
              "    </tr>\n",
              "    <tr>\n",
              "      <th>W95115</th>\n",
              "      <td>0</td>\n",
              "      <td>0</td>\n",
              "      <td>0</td>\n",
              "      <td>2</td>\n",
              "      <td>0</td>\n",
              "      <td>0</td>\n",
              "      <td>0</td>\n",
              "      <td>2</td>\n",
              "      <td>2</td>\n",
              "      <td>0</td>\n",
              "      <td>...</td>\n",
              "      <td>0</td>\n",
              "      <td>2</td>\n",
              "      <td>2</td>\n",
              "      <td>2</td>\n",
              "      <td>0</td>\n",
              "      <td>2</td>\n",
              "      <td>2</td>\n",
              "      <td>2</td>\n",
              "      <td>2</td>\n",
              "      <td>0</td>\n",
              "    </tr>\n",
              "    <tr>\n",
              "      <th>Wf9</th>\n",
              "      <td>0</td>\n",
              "      <td>0</td>\n",
              "      <td>0</td>\n",
              "      <td>0</td>\n",
              "      <td>0</td>\n",
              "      <td>0</td>\n",
              "      <td>0</td>\n",
              "      <td>0</td>\n",
              "      <td>0</td>\n",
              "      <td>0</td>\n",
              "      <td>...</td>\n",
              "      <td>2</td>\n",
              "      <td>0</td>\n",
              "      <td>2</td>\n",
              "      <td>0</td>\n",
              "      <td>0</td>\n",
              "      <td>2</td>\n",
              "      <td>2</td>\n",
              "      <td>2</td>\n",
              "      <td>0</td>\n",
              "      <td>0</td>\n",
              "    </tr>\n",
              "  </tbody>\n",
              "</table>\n",
              "<p>247 rows × 44729 columns</p>\n",
              "</div>\n",
              "      <button class=\"colab-df-convert\" onclick=\"convertToInteractive('df-24a381af-b78f-4f18-ab12-ce0df331afa0')\"\n",
              "              title=\"Convert this dataframe to an interactive table.\"\n",
              "              style=\"display:none;\">\n",
              "        \n",
              "  <svg xmlns=\"http://www.w3.org/2000/svg\" height=\"24px\"viewBox=\"0 0 24 24\"\n",
              "       width=\"24px\">\n",
              "    <path d=\"M0 0h24v24H0V0z\" fill=\"none\"/>\n",
              "    <path d=\"M18.56 5.44l.94 2.06.94-2.06 2.06-.94-2.06-.94-.94-2.06-.94 2.06-2.06.94zm-11 1L8.5 8.5l.94-2.06 2.06-.94-2.06-.94L8.5 2.5l-.94 2.06-2.06.94zm10 10l.94 2.06.94-2.06 2.06-.94-2.06-.94-.94-2.06-.94 2.06-2.06.94z\"/><path d=\"M17.41 7.96l-1.37-1.37c-.4-.4-.92-.59-1.43-.59-.52 0-1.04.2-1.43.59L10.3 9.45l-7.72 7.72c-.78.78-.78 2.05 0 2.83L4 21.41c.39.39.9.59 1.41.59.51 0 1.02-.2 1.41-.59l7.78-7.78 2.81-2.81c.8-.78.8-2.07 0-2.86zM5.41 20L4 18.59l7.72-7.72 1.47 1.35L5.41 20z\"/>\n",
              "  </svg>\n",
              "      </button>\n",
              "      \n",
              "  <style>\n",
              "    .colab-df-container {\n",
              "      display:flex;\n",
              "      flex-wrap:wrap;\n",
              "      gap: 12px;\n",
              "    }\n",
              "\n",
              "    .colab-df-convert {\n",
              "      background-color: #E8F0FE;\n",
              "      border: none;\n",
              "      border-radius: 50%;\n",
              "      cursor: pointer;\n",
              "      display: none;\n",
              "      fill: #1967D2;\n",
              "      height: 32px;\n",
              "      padding: 0 0 0 0;\n",
              "      width: 32px;\n",
              "    }\n",
              "\n",
              "    .colab-df-convert:hover {\n",
              "      background-color: #E2EBFA;\n",
              "      box-shadow: 0px 1px 2px rgba(60, 64, 67, 0.3), 0px 1px 3px 1px rgba(60, 64, 67, 0.15);\n",
              "      fill: #174EA6;\n",
              "    }\n",
              "\n",
              "    [theme=dark] .colab-df-convert {\n",
              "      background-color: #3B4455;\n",
              "      fill: #D2E3FC;\n",
              "    }\n",
              "\n",
              "    [theme=dark] .colab-df-convert:hover {\n",
              "      background-color: #434B5C;\n",
              "      box-shadow: 0px 1px 3px 1px rgba(0, 0, 0, 0.15);\n",
              "      filter: drop-shadow(0px 1px 2px rgba(0, 0, 0, 0.3));\n",
              "      fill: #FFFFFF;\n",
              "    }\n",
              "  </style>\n",
              "\n",
              "      <script>\n",
              "        const buttonEl =\n",
              "          document.querySelector('#df-24a381af-b78f-4f18-ab12-ce0df331afa0 button.colab-df-convert');\n",
              "        buttonEl.style.display =\n",
              "          google.colab.kernel.accessAllowed ? 'block' : 'none';\n",
              "\n",
              "        async function convertToInteractive(key) {\n",
              "          const element = document.querySelector('#df-24a381af-b78f-4f18-ab12-ce0df331afa0');\n",
              "          const dataTable =\n",
              "            await google.colab.kernel.invokeFunction('convertToInteractive',\n",
              "                                                     [key], {});\n",
              "          if (!dataTable) return;\n",
              "\n",
              "          const docLinkHtml = 'Like what you see? Visit the ' +\n",
              "            '<a target=\"_blank\" href=https://colab.research.google.com/notebooks/data_table.ipynb>data table notebook</a>'\n",
              "            + ' to learn more about interactive tables.';\n",
              "          element.innerHTML = '';\n",
              "          dataTable['output_type'] = 'display_data';\n",
              "          await google.colab.output.renderOutput(dataTable, element);\n",
              "          const docLink = document.createElement('div');\n",
              "          docLink.innerHTML = docLinkHtml;\n",
              "          element.appendChild(docLink);\n",
              "        }\n",
              "      </script>\n",
              "    </div>\n",
              "  </div>\n",
              "  "
            ]
          },
          "metadata": {},
          "execution_count": 5
        }
      ],
      "source": [
        "MaizeData_X = pd.read_csv('data_set.data/dataverse_files/Geno_50K_Drops_012_247I_44729L.tsv', sep='\\t')\n",
        "df_ori = MaizeData_X\n",
        "MaizeData_X"
      ]
    },
    {
      "cell_type": "code",
      "execution_count": 6,
      "metadata": {
        "id": "FWD-OEWNaNbj",
        "colab": {
          "base_uri": "https://localhost:8080/"
        },
        "outputId": "7ac95d7e-85e8-485a-815c-7d6fa68cfbc7"
      },
      "outputs": [
        {
          "output_type": "stream",
          "name": "stderr",
          "text": [
            "/usr/local/lib/python3.7/dist-packages/ipykernel_launcher.py:3: SettingWithCopyWarning: \n",
            "A value is trying to be set on a copy of a slice from a DataFrame.\n",
            "Try using .loc[row_indexer,col_indexer] = value instead\n",
            "\n",
            "See the caveats in the documentation: https://pandas.pydata.org/pandas-docs/stable/user_guide/indexing.html#returning-a-view-versus-a-copy\n",
            "  This is separate from the ipykernel package so we can avoid doing imports until\n",
            "/usr/local/lib/python3.7/dist-packages/pandas/core/frame.py:3718: SettingWithCopyWarning: \n",
            "A value is trying to be set on a copy of a slice from a DataFrame\n",
            "\n",
            "See the caveats in the documentation: https://pandas.pydata.org/pandas-docs/stable/user_guide/indexing.html#returning-a-view-versus-a-copy\n",
            "  self._where(-key, value, inplace=True)\n"
          ]
        }
      ],
      "source": [
        "df_incomplete = df_ori.iloc[:,0:500] \n",
        "mask = np.random.choice([1, 0], df_incomplete.shape, p=[.1, .9]).astype(bool)\n",
        "df_incomplete[mask] = np.nan"
      ]
    },
    {
      "cell_type": "code",
      "source": [
        "from sklearn.experimental import enable_iterative_imputer\n",
        "from sklearn.impute import IterativeImputer\n",
        "from sklearn.linear_model import LinearRegression\n",
        "\n",
        "lr = LinearRegression()\n",
        "imp = IterativeImputer(estimator=lr,missing_values=np.nan, max_iter=10, verbose=2, imputation_order='roman',random_state=42)\n",
        "df_mice = imp.fit_transform(df_incomplete)"
      ],
      "metadata": {
        "colab": {
          "base_uri": "https://localhost:8080/"
        },
        "id": "nRjmXVcoXvz5",
        "outputId": "173ae5f6-4b02-4642-e9e5-e69fbb13faf9"
      },
      "execution_count": 7,
      "outputs": [
        {
          "output_type": "stream",
          "name": "stdout",
          "text": [
            "[IterativeImputer] Completing matrix with shape (247, 500)\n",
            "[IterativeImputer] Ending imputation round 1/10, elapsed time 23.39\n",
            "[IterativeImputer] Change: 51.74104578514026, scaled tolerance: 0.002 \n",
            "[IterativeImputer] Ending imputation round 2/10, elapsed time 42.85\n",
            "[IterativeImputer] Change: 29.929265778535846, scaled tolerance: 0.002 \n",
            "[IterativeImputer] Ending imputation round 3/10, elapsed time 63.07\n",
            "[IterativeImputer] Change: 21.811512540109057, scaled tolerance: 0.002 \n",
            "[IterativeImputer] Ending imputation round 4/10, elapsed time 82.73\n",
            "[IterativeImputer] Change: 14.081628202467229, scaled tolerance: 0.002 \n",
            "[IterativeImputer] Ending imputation round 5/10, elapsed time 102.44\n",
            "[IterativeImputer] Change: 9.95737613979322, scaled tolerance: 0.002 \n",
            "[IterativeImputer] Ending imputation round 6/10, elapsed time 122.50\n",
            "[IterativeImputer] Change: 6.465068141911082, scaled tolerance: 0.002 \n",
            "[IterativeImputer] Ending imputation round 7/10, elapsed time 143.00\n",
            "[IterativeImputer] Change: 5.288555465709195, scaled tolerance: 0.002 \n",
            "[IterativeImputer] Ending imputation round 8/10, elapsed time 163.88\n",
            "[IterativeImputer] Change: 4.038878232054616, scaled tolerance: 0.002 \n",
            "[IterativeImputer] Ending imputation round 9/10, elapsed time 183.81\n",
            "[IterativeImputer] Change: 2.7198931798120745, scaled tolerance: 0.002 \n",
            "[IterativeImputer] Ending imputation round 10/10, elapsed time 203.86\n",
            "[IterativeImputer] Change: 1.7976562444117588, scaled tolerance: 0.002 \n"
          ]
        },
        {
          "output_type": "stream",
          "name": "stderr",
          "text": [
            "/usr/local/lib/python3.7/dist-packages/sklearn/impute/_iterative.py:701: ConvergenceWarning: [IterativeImputer] Early stopping criterion not reached.\n",
            "  ConvergenceWarning,\n"
          ]
        }
      ]
    },
    {
      "cell_type": "code",
      "source": [
        "df_mice"
      ],
      "metadata": {
        "colab": {
          "base_uri": "https://localhost:8080/"
        },
        "id": "8J7HN2bGeU_O",
        "outputId": "b652c8b9-360e-4189-d48d-82d5d1b496ce"
      },
      "execution_count": 8,
      "outputs": [
        {
          "output_type": "execute_result",
          "data": {
            "text/plain": [
              "array([[ 0.        ,  0.19230348,  0.        , ...,  0.        ,\n",
              "         0.        ,  0.90851885],\n",
              "       [ 0.        ,  0.        ,  0.        , ...,  0.        ,\n",
              "         0.        ,  3.03757516],\n",
              "       [ 2.        ,  0.        ,  0.        , ...,  2.        ,\n",
              "         2.        ,  2.        ],\n",
              "       ...,\n",
              "       [ 2.        ,  0.        ,  0.        , ...,  2.        ,\n",
              "         2.        ,  0.        ],\n",
              "       [ 0.        ,  0.        ,  0.        , ...,  0.79076652,\n",
              "         2.        ,  2.        ],\n",
              "       [ 0.        ,  0.        , -0.0237551 , ...,  0.        ,\n",
              "         1.92066015,  1.94162868]])"
            ]
          },
          "metadata": {},
          "execution_count": 8
        }
      ]
    },
    {
      "cell_type": "markdown",
      "metadata": {
        "id": "xqvP7YZIJWJL"
      },
      "source": [
        "Mean"
      ]
    },
    {
      "cell_type": "code",
      "execution_count": 24,
      "metadata": {
        "id": "bThCHmIxJWJL"
      },
      "outputs": [],
      "source": [
        "df_incomplete = df_ori.copy()\n",
        "mask = np.random.choice([1, 0], df_incomplete.shape, p=[.1, .9]).astype(bool)\n",
        "df_incomplete[mask] = np.nan \n",
        "df_imputed_mean = df_incomplete.fillna(df_incomplete.mean())"
      ]
    },
    {
      "cell_type": "code",
      "execution_count": 25,
      "metadata": {
        "id": "KDfbZytCmrfE"
      },
      "outputs": [],
      "source": [
        "df_imputed_mean = df_imputed_mean.astype(int)"
      ]
    },
    {
      "cell_type": "code",
      "source": [
        "df_imputed_mean"
      ],
      "metadata": {
        "colab": {
          "base_uri": "https://localhost:8080/",
          "height": 522
        },
        "id": "Y1ahLS5lfLjF",
        "outputId": "937f395f-70b1-4f1f-a238-508427d40960"
      },
      "execution_count": 26,
      "outputs": [
        {
          "output_type": "execute_result",
          "data": {
            "text/plain": [
              "        SYN83  PZE-101000060  PZE-101000088  PZE-101000108  PZE-101000111  \\\n",
              "11430       0              0              0              0              0   \n",
              "A3          0              0              0              0              0   \n",
              "A310        2              0              0              2              0   \n",
              "A347        2              2              0              2              2   \n",
              "A374        2              2              0              2              0   \n",
              "...       ...            ...            ...            ...            ...   \n",
              "W604S       1              0              0              2              2   \n",
              "W64A        0              0              0              0              0   \n",
              "W9          2              0              0              2              0   \n",
              "W95115      0              0              0              2              0   \n",
              "Wf9         0              0              0              0              0   \n",
              "\n",
              "        PZE-101000161  PZE-101000169  PZE-101000209  PZE-101000256  \\\n",
              "11430               0              1              0              0   \n",
              "A3                  0              0              0              0   \n",
              "A310                0              0              0              2   \n",
              "A347                0              0              0              2   \n",
              "A374                2              2              2              0   \n",
              "...               ...            ...            ...            ...   \n",
              "W604S               0              0              2              2   \n",
              "W64A                0              0              0              0   \n",
              "W9                  0              2              2              0   \n",
              "W95115              0              0              2              2   \n",
              "Wf9                 0              0              0              0   \n",
              "\n",
              "        PZE-101000301  ...  ZM013608-0315  PZE-101235343  \\\n",
              "11430               0  ...              1              0   \n",
              "A3                  0  ...              1              0   \n",
              "A310                2  ...              0              2   \n",
              "A347                0  ...              0              0   \n",
              "A374                2  ...              0              2   \n",
              "...               ...  ...            ...            ...   \n",
              "W604S               0  ...              2              0   \n",
              "W64A                0  ...              0              0   \n",
              "W9                  2  ...              0              0   \n",
              "W95115              0  ...              0              2   \n",
              "Wf9                 0  ...              2              0   \n",
              "\n",
              "        PUT-163a-28982443-1666  PZA00086.8  ZM013526-0477  SYNGENTA16702  \\\n",
              "11430                        0           0              0              0   \n",
              "A3                           2           0              0              2   \n",
              "A310                         2           2              0              2   \n",
              "A347                         0           0              0              2   \n",
              "A374                         2           2              0              2   \n",
              "...                        ...         ...            ...            ...   \n",
              "W604S                        0           2              0              1   \n",
              "W64A                         2           2              0              2   \n",
              "W9                           0           0              0              2   \n",
              "W95115                       0           0              0              1   \n",
              "Wf9                          2           0              0              2   \n",
              "\n",
              "        SYNGENTA1627  PUT-163a-89757491-4674  PUT-163a-18163661-1262  \\\n",
              "11430              0                       0                       0   \n",
              "A3                 2                       0                       0   \n",
              "A310               0                       0                       2   \n",
              "A347               0                       0                       2   \n",
              "A374               0                       0                       0   \n",
              "...              ...                     ...                     ...   \n",
              "W604S              0                       2                       0   \n",
              "W64A               2                       0                       0   \n",
              "W9                 0                       2                       0   \n",
              "W95115             2                       0                       2   \n",
              "Wf9                2                       2                       0   \n",
              "\n",
              "        PZA03171.3  \n",
              "11430            0  \n",
              "A3               0  \n",
              "A310             0  \n",
              "A347             0  \n",
              "A374             0  \n",
              "...            ...  \n",
              "W604S            0  \n",
              "W64A             0  \n",
              "W9               0  \n",
              "W95115           0  \n",
              "Wf9              0  \n",
              "\n",
              "[247 rows x 44729 columns]"
            ],
            "text/html": [
              "\n",
              "  <div id=\"df-b84fbbd8-bd52-4874-ad03-266d93ee0393\">\n",
              "    <div class=\"colab-df-container\">\n",
              "      <div>\n",
              "<style scoped>\n",
              "    .dataframe tbody tr th:only-of-type {\n",
              "        vertical-align: middle;\n",
              "    }\n",
              "\n",
              "    .dataframe tbody tr th {\n",
              "        vertical-align: top;\n",
              "    }\n",
              "\n",
              "    .dataframe thead th {\n",
              "        text-align: right;\n",
              "    }\n",
              "</style>\n",
              "<table border=\"1\" class=\"dataframe\">\n",
              "  <thead>\n",
              "    <tr style=\"text-align: right;\">\n",
              "      <th></th>\n",
              "      <th>SYN83</th>\n",
              "      <th>PZE-101000060</th>\n",
              "      <th>PZE-101000088</th>\n",
              "      <th>PZE-101000108</th>\n",
              "      <th>PZE-101000111</th>\n",
              "      <th>PZE-101000161</th>\n",
              "      <th>PZE-101000169</th>\n",
              "      <th>PZE-101000209</th>\n",
              "      <th>PZE-101000256</th>\n",
              "      <th>PZE-101000301</th>\n",
              "      <th>...</th>\n",
              "      <th>ZM013608-0315</th>\n",
              "      <th>PZE-101235343</th>\n",
              "      <th>PUT-163a-28982443-1666</th>\n",
              "      <th>PZA00086.8</th>\n",
              "      <th>ZM013526-0477</th>\n",
              "      <th>SYNGENTA16702</th>\n",
              "      <th>SYNGENTA1627</th>\n",
              "      <th>PUT-163a-89757491-4674</th>\n",
              "      <th>PUT-163a-18163661-1262</th>\n",
              "      <th>PZA03171.3</th>\n",
              "    </tr>\n",
              "  </thead>\n",
              "  <tbody>\n",
              "    <tr>\n",
              "      <th>11430</th>\n",
              "      <td>0</td>\n",
              "      <td>0</td>\n",
              "      <td>0</td>\n",
              "      <td>0</td>\n",
              "      <td>0</td>\n",
              "      <td>0</td>\n",
              "      <td>1</td>\n",
              "      <td>0</td>\n",
              "      <td>0</td>\n",
              "      <td>0</td>\n",
              "      <td>...</td>\n",
              "      <td>1</td>\n",
              "      <td>0</td>\n",
              "      <td>0</td>\n",
              "      <td>0</td>\n",
              "      <td>0</td>\n",
              "      <td>0</td>\n",
              "      <td>0</td>\n",
              "      <td>0</td>\n",
              "      <td>0</td>\n",
              "      <td>0</td>\n",
              "    </tr>\n",
              "    <tr>\n",
              "      <th>A3</th>\n",
              "      <td>0</td>\n",
              "      <td>0</td>\n",
              "      <td>0</td>\n",
              "      <td>0</td>\n",
              "      <td>0</td>\n",
              "      <td>0</td>\n",
              "      <td>0</td>\n",
              "      <td>0</td>\n",
              "      <td>0</td>\n",
              "      <td>0</td>\n",
              "      <td>...</td>\n",
              "      <td>1</td>\n",
              "      <td>0</td>\n",
              "      <td>2</td>\n",
              "      <td>0</td>\n",
              "      <td>0</td>\n",
              "      <td>2</td>\n",
              "      <td>2</td>\n",
              "      <td>0</td>\n",
              "      <td>0</td>\n",
              "      <td>0</td>\n",
              "    </tr>\n",
              "    <tr>\n",
              "      <th>A310</th>\n",
              "      <td>2</td>\n",
              "      <td>0</td>\n",
              "      <td>0</td>\n",
              "      <td>2</td>\n",
              "      <td>0</td>\n",
              "      <td>0</td>\n",
              "      <td>0</td>\n",
              "      <td>0</td>\n",
              "      <td>2</td>\n",
              "      <td>2</td>\n",
              "      <td>...</td>\n",
              "      <td>0</td>\n",
              "      <td>2</td>\n",
              "      <td>2</td>\n",
              "      <td>2</td>\n",
              "      <td>0</td>\n",
              "      <td>2</td>\n",
              "      <td>0</td>\n",
              "      <td>0</td>\n",
              "      <td>2</td>\n",
              "      <td>0</td>\n",
              "    </tr>\n",
              "    <tr>\n",
              "      <th>A347</th>\n",
              "      <td>2</td>\n",
              "      <td>2</td>\n",
              "      <td>0</td>\n",
              "      <td>2</td>\n",
              "      <td>2</td>\n",
              "      <td>0</td>\n",
              "      <td>0</td>\n",
              "      <td>0</td>\n",
              "      <td>2</td>\n",
              "      <td>0</td>\n",
              "      <td>...</td>\n",
              "      <td>0</td>\n",
              "      <td>0</td>\n",
              "      <td>0</td>\n",
              "      <td>0</td>\n",
              "      <td>0</td>\n",
              "      <td>2</td>\n",
              "      <td>0</td>\n",
              "      <td>0</td>\n",
              "      <td>2</td>\n",
              "      <td>0</td>\n",
              "    </tr>\n",
              "    <tr>\n",
              "      <th>A374</th>\n",
              "      <td>2</td>\n",
              "      <td>2</td>\n",
              "      <td>0</td>\n",
              "      <td>2</td>\n",
              "      <td>0</td>\n",
              "      <td>2</td>\n",
              "      <td>2</td>\n",
              "      <td>2</td>\n",
              "      <td>0</td>\n",
              "      <td>2</td>\n",
              "      <td>...</td>\n",
              "      <td>0</td>\n",
              "      <td>2</td>\n",
              "      <td>2</td>\n",
              "      <td>2</td>\n",
              "      <td>0</td>\n",
              "      <td>2</td>\n",
              "      <td>0</td>\n",
              "      <td>0</td>\n",
              "      <td>0</td>\n",
              "      <td>0</td>\n",
              "    </tr>\n",
              "    <tr>\n",
              "      <th>...</th>\n",
              "      <td>...</td>\n",
              "      <td>...</td>\n",
              "      <td>...</td>\n",
              "      <td>...</td>\n",
              "      <td>...</td>\n",
              "      <td>...</td>\n",
              "      <td>...</td>\n",
              "      <td>...</td>\n",
              "      <td>...</td>\n",
              "      <td>...</td>\n",
              "      <td>...</td>\n",
              "      <td>...</td>\n",
              "      <td>...</td>\n",
              "      <td>...</td>\n",
              "      <td>...</td>\n",
              "      <td>...</td>\n",
              "      <td>...</td>\n",
              "      <td>...</td>\n",
              "      <td>...</td>\n",
              "      <td>...</td>\n",
              "      <td>...</td>\n",
              "    </tr>\n",
              "    <tr>\n",
              "      <th>W604S</th>\n",
              "      <td>1</td>\n",
              "      <td>0</td>\n",
              "      <td>0</td>\n",
              "      <td>2</td>\n",
              "      <td>2</td>\n",
              "      <td>0</td>\n",
              "      <td>0</td>\n",
              "      <td>2</td>\n",
              "      <td>2</td>\n",
              "      <td>0</td>\n",
              "      <td>...</td>\n",
              "      <td>2</td>\n",
              "      <td>0</td>\n",
              "      <td>0</td>\n",
              "      <td>2</td>\n",
              "      <td>0</td>\n",
              "      <td>1</td>\n",
              "      <td>0</td>\n",
              "      <td>2</td>\n",
              "      <td>0</td>\n",
              "      <td>0</td>\n",
              "    </tr>\n",
              "    <tr>\n",
              "      <th>W64A</th>\n",
              "      <td>0</td>\n",
              "      <td>0</td>\n",
              "      <td>0</td>\n",
              "      <td>0</td>\n",
              "      <td>0</td>\n",
              "      <td>0</td>\n",
              "      <td>0</td>\n",
              "      <td>0</td>\n",
              "      <td>0</td>\n",
              "      <td>0</td>\n",
              "      <td>...</td>\n",
              "      <td>0</td>\n",
              "      <td>0</td>\n",
              "      <td>2</td>\n",
              "      <td>2</td>\n",
              "      <td>0</td>\n",
              "      <td>2</td>\n",
              "      <td>2</td>\n",
              "      <td>0</td>\n",
              "      <td>0</td>\n",
              "      <td>0</td>\n",
              "    </tr>\n",
              "    <tr>\n",
              "      <th>W9</th>\n",
              "      <td>2</td>\n",
              "      <td>0</td>\n",
              "      <td>0</td>\n",
              "      <td>2</td>\n",
              "      <td>0</td>\n",
              "      <td>0</td>\n",
              "      <td>2</td>\n",
              "      <td>2</td>\n",
              "      <td>0</td>\n",
              "      <td>2</td>\n",
              "      <td>...</td>\n",
              "      <td>0</td>\n",
              "      <td>0</td>\n",
              "      <td>0</td>\n",
              "      <td>0</td>\n",
              "      <td>0</td>\n",
              "      <td>2</td>\n",
              "      <td>0</td>\n",
              "      <td>2</td>\n",
              "      <td>0</td>\n",
              "      <td>0</td>\n",
              "    </tr>\n",
              "    <tr>\n",
              "      <th>W95115</th>\n",
              "      <td>0</td>\n",
              "      <td>0</td>\n",
              "      <td>0</td>\n",
              "      <td>2</td>\n",
              "      <td>0</td>\n",
              "      <td>0</td>\n",
              "      <td>0</td>\n",
              "      <td>2</td>\n",
              "      <td>2</td>\n",
              "      <td>0</td>\n",
              "      <td>...</td>\n",
              "      <td>0</td>\n",
              "      <td>2</td>\n",
              "      <td>0</td>\n",
              "      <td>0</td>\n",
              "      <td>0</td>\n",
              "      <td>1</td>\n",
              "      <td>2</td>\n",
              "      <td>0</td>\n",
              "      <td>2</td>\n",
              "      <td>0</td>\n",
              "    </tr>\n",
              "    <tr>\n",
              "      <th>Wf9</th>\n",
              "      <td>0</td>\n",
              "      <td>0</td>\n",
              "      <td>0</td>\n",
              "      <td>0</td>\n",
              "      <td>0</td>\n",
              "      <td>0</td>\n",
              "      <td>0</td>\n",
              "      <td>0</td>\n",
              "      <td>0</td>\n",
              "      <td>0</td>\n",
              "      <td>...</td>\n",
              "      <td>2</td>\n",
              "      <td>0</td>\n",
              "      <td>2</td>\n",
              "      <td>0</td>\n",
              "      <td>0</td>\n",
              "      <td>2</td>\n",
              "      <td>2</td>\n",
              "      <td>2</td>\n",
              "      <td>0</td>\n",
              "      <td>0</td>\n",
              "    </tr>\n",
              "  </tbody>\n",
              "</table>\n",
              "<p>247 rows × 44729 columns</p>\n",
              "</div>\n",
              "      <button class=\"colab-df-convert\" onclick=\"convertToInteractive('df-b84fbbd8-bd52-4874-ad03-266d93ee0393')\"\n",
              "              title=\"Convert this dataframe to an interactive table.\"\n",
              "              style=\"display:none;\">\n",
              "        \n",
              "  <svg xmlns=\"http://www.w3.org/2000/svg\" height=\"24px\"viewBox=\"0 0 24 24\"\n",
              "       width=\"24px\">\n",
              "    <path d=\"M0 0h24v24H0V0z\" fill=\"none\"/>\n",
              "    <path d=\"M18.56 5.44l.94 2.06.94-2.06 2.06-.94-2.06-.94-.94-2.06-.94 2.06-2.06.94zm-11 1L8.5 8.5l.94-2.06 2.06-.94-2.06-.94L8.5 2.5l-.94 2.06-2.06.94zm10 10l.94 2.06.94-2.06 2.06-.94-2.06-.94-.94-2.06-.94 2.06-2.06.94z\"/><path d=\"M17.41 7.96l-1.37-1.37c-.4-.4-.92-.59-1.43-.59-.52 0-1.04.2-1.43.59L10.3 9.45l-7.72 7.72c-.78.78-.78 2.05 0 2.83L4 21.41c.39.39.9.59 1.41.59.51 0 1.02-.2 1.41-.59l7.78-7.78 2.81-2.81c.8-.78.8-2.07 0-2.86zM5.41 20L4 18.59l7.72-7.72 1.47 1.35L5.41 20z\"/>\n",
              "  </svg>\n",
              "      </button>\n",
              "      \n",
              "  <style>\n",
              "    .colab-df-container {\n",
              "      display:flex;\n",
              "      flex-wrap:wrap;\n",
              "      gap: 12px;\n",
              "    }\n",
              "\n",
              "    .colab-df-convert {\n",
              "      background-color: #E8F0FE;\n",
              "      border: none;\n",
              "      border-radius: 50%;\n",
              "      cursor: pointer;\n",
              "      display: none;\n",
              "      fill: #1967D2;\n",
              "      height: 32px;\n",
              "      padding: 0 0 0 0;\n",
              "      width: 32px;\n",
              "    }\n",
              "\n",
              "    .colab-df-convert:hover {\n",
              "      background-color: #E2EBFA;\n",
              "      box-shadow: 0px 1px 2px rgba(60, 64, 67, 0.3), 0px 1px 3px 1px rgba(60, 64, 67, 0.15);\n",
              "      fill: #174EA6;\n",
              "    }\n",
              "\n",
              "    [theme=dark] .colab-df-convert {\n",
              "      background-color: #3B4455;\n",
              "      fill: #D2E3FC;\n",
              "    }\n",
              "\n",
              "    [theme=dark] .colab-df-convert:hover {\n",
              "      background-color: #434B5C;\n",
              "      box-shadow: 0px 1px 3px 1px rgba(0, 0, 0, 0.15);\n",
              "      filter: drop-shadow(0px 1px 2px rgba(0, 0, 0, 0.3));\n",
              "      fill: #FFFFFF;\n",
              "    }\n",
              "  </style>\n",
              "\n",
              "      <script>\n",
              "        const buttonEl =\n",
              "          document.querySelector('#df-b84fbbd8-bd52-4874-ad03-266d93ee0393 button.colab-df-convert');\n",
              "        buttonEl.style.display =\n",
              "          google.colab.kernel.accessAllowed ? 'block' : 'none';\n",
              "\n",
              "        async function convertToInteractive(key) {\n",
              "          const element = document.querySelector('#df-b84fbbd8-bd52-4874-ad03-266d93ee0393');\n",
              "          const dataTable =\n",
              "            await google.colab.kernel.invokeFunction('convertToInteractive',\n",
              "                                                     [key], {});\n",
              "          if (!dataTable) return;\n",
              "\n",
              "          const docLinkHtml = 'Like what you see? Visit the ' +\n",
              "            '<a target=\"_blank\" href=https://colab.research.google.com/notebooks/data_table.ipynb>data table notebook</a>'\n",
              "            + ' to learn more about interactive tables.';\n",
              "          element.innerHTML = '';\n",
              "          dataTable['output_type'] = 'display_data';\n",
              "          await google.colab.output.renderOutput(dataTable, element);\n",
              "          const docLink = document.createElement('div');\n",
              "          docLink.innerHTML = docLinkHtml;\n",
              "          element.appendChild(docLink);\n",
              "        }\n",
              "      </script>\n",
              "    </div>\n",
              "  </div>\n",
              "  "
            ]
          },
          "metadata": {},
          "execution_count": 26
        }
      ]
    },
    {
      "cell_type": "code",
      "execution_count": null,
      "metadata": {
        "colab": {
          "base_uri": "https://localhost:8080/"
        },
        "id": "kRuQraQ2mrc9",
        "outputId": "b9777700-366b-4875-c724-36f5630055e8"
      },
      "outputs": [
        {
          "name": "stdout",
          "output_type": "stream",
          "text": [
            "0.5798931999373576\n"
          ]
        }
      ],
      "source": [
        "incorrect = (df_imputed_mean != df_ori)\n",
        "incorrect_cnts = incorrect.apply(pd.value_counts)\n",
        "incorrect_sum = incorrect_cnts.sum(axis=1)\n",
        "incorrect_sum[1]\n",
        "\n",
        "missing = df_incomplete.apply(pd.isnull)\n",
        "missing_cnts = missing.apply(pd.value_counts)\n",
        "missing_sum = missing_cnts.sum(axis=1)\n",
        "\n",
        "accuracy = 1 - (incorrect_sum[1] / missing_sum[1])\n",
        "print(accuracy)"
      ]
    },
    {
      "cell_type": "markdown",
      "metadata": {
        "id": "Slqrp2LvJWJN"
      },
      "source": [
        "Median"
      ]
    },
    {
      "cell_type": "code",
      "execution_count": null,
      "metadata": {
        "colab": {
          "base_uri": "https://localhost:8080/"
        },
        "id": "w2xbLEaeJWJN",
        "outputId": "a15dc431-4d18-4bcc-e65a-e89668a84535"
      },
      "outputs": [
        {
          "name": "stdout",
          "output_type": "stream",
          "text": [
            "0.7192487217974364\n"
          ]
        }
      ],
      "source": [
        "df_incomplete = df_ori.copy()\n",
        "mask = np.random.choice([1, 0], df_incomplete.shape, p=[.1, .9]).astype(bool)\n",
        "df_incomplete[mask] = np.nan\n",
        "df_imputed_median=df_incomplete.fillna(df_incomplete.median())\n",
        "# with the probability being 0.1 it will assign 0, then mask\n",
        "\n",
        "df_imputed_median=df_imputed_median.astype(int)\n",
        "\n",
        "incorrect = (df_imputed_median != df_ori)\n",
        "incorrect_cnts = incorrect.apply(pd.value_counts)\n",
        "incorrect_sum = incorrect_cnts.sum(axis=1)\n",
        "incorrect_sum[1]\n",
        "##\n",
        "missing = df_incomplete.apply(pd.isnull)\n",
        "missing_cnts = missing.apply(pd.value_counts)\n",
        "missing_sum = missing_cnts.sum(axis=1)\n",
        "\n",
        "accuracy = 1 - (incorrect_sum[1] / missing_sum[1])\n",
        "print(accuracy)"
      ]
    },
    {
      "cell_type": "markdown",
      "metadata": {
        "id": "T6RSB589JWJO"
      },
      "source": [
        "Mode"
      ]
    },
    {
      "cell_type": "code",
      "execution_count": null,
      "metadata": {
        "colab": {
          "base_uri": "https://localhost:8080/"
        },
        "id": "IN7zkQUfnLM8",
        "outputId": "839c77bf-3dda-4e14-82f5-370fe19b931b"
      },
      "outputs": [
        {
          "name": "stdout",
          "output_type": "stream",
          "text": [
            "0.7262999321420494\n"
          ]
        }
      ],
      "source": [
        "df_incomplete = df_ori.copy()\n",
        "mask = np.random.choice([1, 0], df_incomplete.shape, p=[.1, .9]).astype(bool)\n",
        "df_incomplete[mask] = np.nan\n",
        "df_incomplete_mode=df_incomplete.copy()\n",
        "for i in df_ori.columns:\n",
        "  df_incomplete_mode[i] = df_incomplete_mode[i].fillna(df_incomplete_mode[i].mode()[0])\n",
        "\n",
        "df_incomplete_mode=df_incomplete_mode.astype(int)\n",
        "\n",
        "incorrect = (df_incomplete_mode != df_ori)\n",
        "incorrect_cnts = incorrect.apply(pd.value_counts)\n",
        "incorrect_sum = incorrect_cnts.sum(axis=1)\n",
        "incorrect_sum[1]\n",
        "##\n",
        "missing = df_incomplete.apply(pd.isnull)\n",
        "missing_cnts = missing.apply(pd.value_counts)\n",
        "missing_sum = missing_cnts.sum(axis=1)\n",
        "\n",
        "accuracy = 1 - (incorrect_sum[1] / missing_sum[1])\n",
        "print(accuracy)"
      ]
    },
    {
      "cell_type": "code",
      "execution_count": null,
      "metadata": {
        "id": "OeGEOcU7ZoT2"
      },
      "outputs": [],
      "source": [
        "# creating a HDF5 file 'SCDA.h5'\n",
        "SCDA.save('model/SCDA.h5')  "
      ]
    },
    {
      "cell_type": "code",
      "execution_count": null,
      "metadata": {
        "id": "IAgHH5JLZniJ"
      },
      "outputs": [],
      "source": [
        ""
      ]
    },
    {
      "cell_type": "code",
      "execution_count": null,
      "metadata": {
        "id": "t6lpCX7RZna2"
      },
      "outputs": [],
      "source": [
        ""
      ]
    },
    {
      "cell_type": "code",
      "execution_count": null,
      "metadata": {
        "id": "Qa815DYQZnS2"
      },
      "outputs": [],
      "source": [
        ""
      ]
    },
    {
      "cell_type": "code",
      "execution_count": null,
      "metadata": {
        "id": "y7zAVmXZZnNH"
      },
      "outputs": [],
      "source": [
        ""
      ]
    },
    {
      "cell_type": "code",
      "execution_count": null,
      "metadata": {
        "id": "7rBYWG9xZnHG"
      },
      "outputs": [],
      "source": [
        ""
      ]
    },
    {
      "cell_type": "code",
      "execution_count": null,
      "metadata": {
        "id": "JL-XuqB1ZnBQ"
      },
      "outputs": [],
      "source": [
        ""
      ]
    }
  ],
  "metadata": {
    "colab": {
      "collapsed_sections": [],
      "name": "AE .ipynb",
      "provenance": []
    },
    "deepnote": {},
    "deepnote_execution_queue": [],
    "deepnote_notebook_id": "1a14a121-d5d4-47ca-ade3-56e197006873",
    "kernelspec": {
      "display_name": "Python 3",
      "name": "python3"
    },
    "language_info": {
      "name": "python"
    }
  },
  "nbformat": 4,
  "nbformat_minor": 0
}